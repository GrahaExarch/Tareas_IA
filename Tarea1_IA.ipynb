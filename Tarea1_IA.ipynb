{
  "nbformat": 4,
  "nbformat_minor": 0,
  "metadata": {
    "colab": {
      "provenance": []
    },
    "kernelspec": {
      "name": "python3",
      "display_name": "Python 3"
    },
    "language_info": {
      "name": "python"
    },
    "widgets": {
      "application/vnd.jupyter.widget-state+json": {
        "23db651dc2e1438cb8c5764fa0e27cbb": {
          "model_module": "@jupyter-widgets/controls",
          "model_name": "HBoxModel",
          "model_module_version": "1.5.0",
          "state": {
            "_dom_classes": [],
            "_model_module": "@jupyter-widgets/controls",
            "_model_module_version": "1.5.0",
            "_model_name": "HBoxModel",
            "_view_count": null,
            "_view_module": "@jupyter-widgets/controls",
            "_view_module_version": "1.5.0",
            "_view_name": "HBoxView",
            "box_style": "",
            "children": [
              "IPY_MODEL_07c57e7d63184899b9a56c339d180153",
              "IPY_MODEL_4566fca7b4f740fc8b445789c6f69487",
              "IPY_MODEL_e108cf21646a4ebea25888d58e392be1"
            ],
            "layout": "IPY_MODEL_5edbf22d66ed4fb0bfe1f1eab1869bd5"
          }
        },
        "07c57e7d63184899b9a56c339d180153": {
          "model_module": "@jupyter-widgets/controls",
          "model_name": "HTMLModel",
          "model_module_version": "1.5.0",
          "state": {
            "_dom_classes": [],
            "_model_module": "@jupyter-widgets/controls",
            "_model_module_version": "1.5.0",
            "_model_name": "HTMLModel",
            "_view_count": null,
            "_view_module": "@jupyter-widgets/controls",
            "_view_module_version": "1.5.0",
            "_view_name": "HTMLView",
            "description": "",
            "description_tooltip": null,
            "layout": "IPY_MODEL_0ee22d1da08246f78c28fa533ec3301a",
            "placeholder": "​",
            "style": "IPY_MODEL_4ad7a501d96949ccad7ef0b1f02ec4ec",
            "value": "Finding Elimination Order: : 100%"
          }
        },
        "4566fca7b4f740fc8b445789c6f69487": {
          "model_module": "@jupyter-widgets/controls",
          "model_name": "FloatProgressModel",
          "model_module_version": "1.5.0",
          "state": {
            "_dom_classes": [],
            "_model_module": "@jupyter-widgets/controls",
            "_model_module_version": "1.5.0",
            "_model_name": "FloatProgressModel",
            "_view_count": null,
            "_view_module": "@jupyter-widgets/controls",
            "_view_module_version": "1.5.0",
            "_view_name": "ProgressView",
            "bar_style": "success",
            "description": "",
            "description_tooltip": null,
            "layout": "IPY_MODEL_f8e340f1f3964b078a2807914cee79cb",
            "max": 2,
            "min": 0,
            "orientation": "horizontal",
            "style": "IPY_MODEL_996ea95e285e410498cd10bb0b0ca76b",
            "value": 2
          }
        },
        "e108cf21646a4ebea25888d58e392be1": {
          "model_module": "@jupyter-widgets/controls",
          "model_name": "HTMLModel",
          "model_module_version": "1.5.0",
          "state": {
            "_dom_classes": [],
            "_model_module": "@jupyter-widgets/controls",
            "_model_module_version": "1.5.0",
            "_model_name": "HTMLModel",
            "_view_count": null,
            "_view_module": "@jupyter-widgets/controls",
            "_view_module_version": "1.5.0",
            "_view_name": "HTMLView",
            "description": "",
            "description_tooltip": null,
            "layout": "IPY_MODEL_aec021cf715a47699816a9457ea5990c",
            "placeholder": "​",
            "style": "IPY_MODEL_fde4b8fcfedf4146a239237b72025eeb",
            "value": " 2/2 [00:45&lt;00:00, 22.86s/it]"
          }
        },
        "5edbf22d66ed4fb0bfe1f1eab1869bd5": {
          "model_module": "@jupyter-widgets/base",
          "model_name": "LayoutModel",
          "model_module_version": "1.2.0",
          "state": {
            "_model_module": "@jupyter-widgets/base",
            "_model_module_version": "1.2.0",
            "_model_name": "LayoutModel",
            "_view_count": null,
            "_view_module": "@jupyter-widgets/base",
            "_view_module_version": "1.2.0",
            "_view_name": "LayoutView",
            "align_content": null,
            "align_items": null,
            "align_self": null,
            "border": null,
            "bottom": null,
            "display": null,
            "flex": null,
            "flex_flow": null,
            "grid_area": null,
            "grid_auto_columns": null,
            "grid_auto_flow": null,
            "grid_auto_rows": null,
            "grid_column": null,
            "grid_gap": null,
            "grid_row": null,
            "grid_template_areas": null,
            "grid_template_columns": null,
            "grid_template_rows": null,
            "height": null,
            "justify_content": null,
            "justify_items": null,
            "left": null,
            "margin": null,
            "max_height": null,
            "max_width": null,
            "min_height": null,
            "min_width": null,
            "object_fit": null,
            "object_position": null,
            "order": null,
            "overflow": null,
            "overflow_x": null,
            "overflow_y": null,
            "padding": null,
            "right": null,
            "top": null,
            "visibility": null,
            "width": null
          }
        },
        "0ee22d1da08246f78c28fa533ec3301a": {
          "model_module": "@jupyter-widgets/base",
          "model_name": "LayoutModel",
          "model_module_version": "1.2.0",
          "state": {
            "_model_module": "@jupyter-widgets/base",
            "_model_module_version": "1.2.0",
            "_model_name": "LayoutModel",
            "_view_count": null,
            "_view_module": "@jupyter-widgets/base",
            "_view_module_version": "1.2.0",
            "_view_name": "LayoutView",
            "align_content": null,
            "align_items": null,
            "align_self": null,
            "border": null,
            "bottom": null,
            "display": null,
            "flex": null,
            "flex_flow": null,
            "grid_area": null,
            "grid_auto_columns": null,
            "grid_auto_flow": null,
            "grid_auto_rows": null,
            "grid_column": null,
            "grid_gap": null,
            "grid_row": null,
            "grid_template_areas": null,
            "grid_template_columns": null,
            "grid_template_rows": null,
            "height": null,
            "justify_content": null,
            "justify_items": null,
            "left": null,
            "margin": null,
            "max_height": null,
            "max_width": null,
            "min_height": null,
            "min_width": null,
            "object_fit": null,
            "object_position": null,
            "order": null,
            "overflow": null,
            "overflow_x": null,
            "overflow_y": null,
            "padding": null,
            "right": null,
            "top": null,
            "visibility": null,
            "width": null
          }
        },
        "4ad7a501d96949ccad7ef0b1f02ec4ec": {
          "model_module": "@jupyter-widgets/controls",
          "model_name": "DescriptionStyleModel",
          "model_module_version": "1.5.0",
          "state": {
            "_model_module": "@jupyter-widgets/controls",
            "_model_module_version": "1.5.0",
            "_model_name": "DescriptionStyleModel",
            "_view_count": null,
            "_view_module": "@jupyter-widgets/base",
            "_view_module_version": "1.2.0",
            "_view_name": "StyleView",
            "description_width": ""
          }
        },
        "f8e340f1f3964b078a2807914cee79cb": {
          "model_module": "@jupyter-widgets/base",
          "model_name": "LayoutModel",
          "model_module_version": "1.2.0",
          "state": {
            "_model_module": "@jupyter-widgets/base",
            "_model_module_version": "1.2.0",
            "_model_name": "LayoutModel",
            "_view_count": null,
            "_view_module": "@jupyter-widgets/base",
            "_view_module_version": "1.2.0",
            "_view_name": "LayoutView",
            "align_content": null,
            "align_items": null,
            "align_self": null,
            "border": null,
            "bottom": null,
            "display": null,
            "flex": null,
            "flex_flow": null,
            "grid_area": null,
            "grid_auto_columns": null,
            "grid_auto_flow": null,
            "grid_auto_rows": null,
            "grid_column": null,
            "grid_gap": null,
            "grid_row": null,
            "grid_template_areas": null,
            "grid_template_columns": null,
            "grid_template_rows": null,
            "height": null,
            "justify_content": null,
            "justify_items": null,
            "left": null,
            "margin": null,
            "max_height": null,
            "max_width": null,
            "min_height": null,
            "min_width": null,
            "object_fit": null,
            "object_position": null,
            "order": null,
            "overflow": null,
            "overflow_x": null,
            "overflow_y": null,
            "padding": null,
            "right": null,
            "top": null,
            "visibility": null,
            "width": null
          }
        },
        "996ea95e285e410498cd10bb0b0ca76b": {
          "model_module": "@jupyter-widgets/controls",
          "model_name": "ProgressStyleModel",
          "model_module_version": "1.5.0",
          "state": {
            "_model_module": "@jupyter-widgets/controls",
            "_model_module_version": "1.5.0",
            "_model_name": "ProgressStyleModel",
            "_view_count": null,
            "_view_module": "@jupyter-widgets/base",
            "_view_module_version": "1.2.0",
            "_view_name": "StyleView",
            "bar_color": null,
            "description_width": ""
          }
        },
        "aec021cf715a47699816a9457ea5990c": {
          "model_module": "@jupyter-widgets/base",
          "model_name": "LayoutModel",
          "model_module_version": "1.2.0",
          "state": {
            "_model_module": "@jupyter-widgets/base",
            "_model_module_version": "1.2.0",
            "_model_name": "LayoutModel",
            "_view_count": null,
            "_view_module": "@jupyter-widgets/base",
            "_view_module_version": "1.2.0",
            "_view_name": "LayoutView",
            "align_content": null,
            "align_items": null,
            "align_self": null,
            "border": null,
            "bottom": null,
            "display": null,
            "flex": null,
            "flex_flow": null,
            "grid_area": null,
            "grid_auto_columns": null,
            "grid_auto_flow": null,
            "grid_auto_rows": null,
            "grid_column": null,
            "grid_gap": null,
            "grid_row": null,
            "grid_template_areas": null,
            "grid_template_columns": null,
            "grid_template_rows": null,
            "height": null,
            "justify_content": null,
            "justify_items": null,
            "left": null,
            "margin": null,
            "max_height": null,
            "max_width": null,
            "min_height": null,
            "min_width": null,
            "object_fit": null,
            "object_position": null,
            "order": null,
            "overflow": null,
            "overflow_x": null,
            "overflow_y": null,
            "padding": null,
            "right": null,
            "top": null,
            "visibility": null,
            "width": null
          }
        },
        "fde4b8fcfedf4146a239237b72025eeb": {
          "model_module": "@jupyter-widgets/controls",
          "model_name": "DescriptionStyleModel",
          "model_module_version": "1.5.0",
          "state": {
            "_model_module": "@jupyter-widgets/controls",
            "_model_module_version": "1.5.0",
            "_model_name": "DescriptionStyleModel",
            "_view_count": null,
            "_view_module": "@jupyter-widgets/base",
            "_view_module_version": "1.2.0",
            "_view_name": "StyleView",
            "description_width": ""
          }
        },
        "f15d36011956409c834154c9aed0e417": {
          "model_module": "@jupyter-widgets/controls",
          "model_name": "HBoxModel",
          "model_module_version": "1.5.0",
          "state": {
            "_dom_classes": [],
            "_model_module": "@jupyter-widgets/controls",
            "_model_module_version": "1.5.0",
            "_model_name": "HBoxModel",
            "_view_count": null,
            "_view_module": "@jupyter-widgets/controls",
            "_view_module_version": "1.5.0",
            "_view_name": "HBoxView",
            "box_style": "",
            "children": [
              "IPY_MODEL_d9003590cb4e4247a60cd8af3b399ea3",
              "IPY_MODEL_b7bdfb66941042118d547a1a522af1f6",
              "IPY_MODEL_ddb3561c9c82430eb74127b37a5f5b24"
            ],
            "layout": "IPY_MODEL_8c089b996eee49caa87a5ea1c4a3658b"
          }
        },
        "d9003590cb4e4247a60cd8af3b399ea3": {
          "model_module": "@jupyter-widgets/controls",
          "model_name": "HTMLModel",
          "model_module_version": "1.5.0",
          "state": {
            "_dom_classes": [],
            "_model_module": "@jupyter-widgets/controls",
            "_model_module_version": "1.5.0",
            "_model_name": "HTMLModel",
            "_view_count": null,
            "_view_module": "@jupyter-widgets/controls",
            "_view_module_version": "1.5.0",
            "_view_name": "HTMLView",
            "description": "",
            "description_tooltip": null,
            "layout": "IPY_MODEL_096b726043bb457cb9c13c1f1cbc21af",
            "placeholder": "​",
            "style": "IPY_MODEL_de300c9292c64f409daf58b23730e426",
            "value": "Eliminating: inflacion: 100%"
          }
        },
        "b7bdfb66941042118d547a1a522af1f6": {
          "model_module": "@jupyter-widgets/controls",
          "model_name": "FloatProgressModel",
          "model_module_version": "1.5.0",
          "state": {
            "_dom_classes": [],
            "_model_module": "@jupyter-widgets/controls",
            "_model_module_version": "1.5.0",
            "_model_name": "FloatProgressModel",
            "_view_count": null,
            "_view_module": "@jupyter-widgets/controls",
            "_view_module_version": "1.5.0",
            "_view_name": "ProgressView",
            "bar_style": "success",
            "description": "",
            "description_tooltip": null,
            "layout": "IPY_MODEL_8f17911a9d394005a98138f4946e2b0a",
            "max": 2,
            "min": 0,
            "orientation": "horizontal",
            "style": "IPY_MODEL_788dbd16472645db9c7a762bce33e040",
            "value": 2
          }
        },
        "ddb3561c9c82430eb74127b37a5f5b24": {
          "model_module": "@jupyter-widgets/controls",
          "model_name": "HTMLModel",
          "model_module_version": "1.5.0",
          "state": {
            "_dom_classes": [],
            "_model_module": "@jupyter-widgets/controls",
            "_model_module_version": "1.5.0",
            "_model_name": "HTMLModel",
            "_view_count": null,
            "_view_module": "@jupyter-widgets/controls",
            "_view_module_version": "1.5.0",
            "_view_name": "HTMLView",
            "description": "",
            "description_tooltip": null,
            "layout": "IPY_MODEL_25d8e7618523437fbd3a0fd86c0b7367",
            "placeholder": "​",
            "style": "IPY_MODEL_d5ee3cf17420468d8bfb1d8a1d34dc68",
            "value": " 2/2 [00:00&lt;00:00, 39.60it/s]"
          }
        },
        "8c089b996eee49caa87a5ea1c4a3658b": {
          "model_module": "@jupyter-widgets/base",
          "model_name": "LayoutModel",
          "model_module_version": "1.2.0",
          "state": {
            "_model_module": "@jupyter-widgets/base",
            "_model_module_version": "1.2.0",
            "_model_name": "LayoutModel",
            "_view_count": null,
            "_view_module": "@jupyter-widgets/base",
            "_view_module_version": "1.2.0",
            "_view_name": "LayoutView",
            "align_content": null,
            "align_items": null,
            "align_self": null,
            "border": null,
            "bottom": null,
            "display": null,
            "flex": null,
            "flex_flow": null,
            "grid_area": null,
            "grid_auto_columns": null,
            "grid_auto_flow": null,
            "grid_auto_rows": null,
            "grid_column": null,
            "grid_gap": null,
            "grid_row": null,
            "grid_template_areas": null,
            "grid_template_columns": null,
            "grid_template_rows": null,
            "height": null,
            "justify_content": null,
            "justify_items": null,
            "left": null,
            "margin": null,
            "max_height": null,
            "max_width": null,
            "min_height": null,
            "min_width": null,
            "object_fit": null,
            "object_position": null,
            "order": null,
            "overflow": null,
            "overflow_x": null,
            "overflow_y": null,
            "padding": null,
            "right": null,
            "top": null,
            "visibility": null,
            "width": null
          }
        },
        "096b726043bb457cb9c13c1f1cbc21af": {
          "model_module": "@jupyter-widgets/base",
          "model_name": "LayoutModel",
          "model_module_version": "1.2.0",
          "state": {
            "_model_module": "@jupyter-widgets/base",
            "_model_module_version": "1.2.0",
            "_model_name": "LayoutModel",
            "_view_count": null,
            "_view_module": "@jupyter-widgets/base",
            "_view_module_version": "1.2.0",
            "_view_name": "LayoutView",
            "align_content": null,
            "align_items": null,
            "align_self": null,
            "border": null,
            "bottom": null,
            "display": null,
            "flex": null,
            "flex_flow": null,
            "grid_area": null,
            "grid_auto_columns": null,
            "grid_auto_flow": null,
            "grid_auto_rows": null,
            "grid_column": null,
            "grid_gap": null,
            "grid_row": null,
            "grid_template_areas": null,
            "grid_template_columns": null,
            "grid_template_rows": null,
            "height": null,
            "justify_content": null,
            "justify_items": null,
            "left": null,
            "margin": null,
            "max_height": null,
            "max_width": null,
            "min_height": null,
            "min_width": null,
            "object_fit": null,
            "object_position": null,
            "order": null,
            "overflow": null,
            "overflow_x": null,
            "overflow_y": null,
            "padding": null,
            "right": null,
            "top": null,
            "visibility": null,
            "width": null
          }
        },
        "de300c9292c64f409daf58b23730e426": {
          "model_module": "@jupyter-widgets/controls",
          "model_name": "DescriptionStyleModel",
          "model_module_version": "1.5.0",
          "state": {
            "_model_module": "@jupyter-widgets/controls",
            "_model_module_version": "1.5.0",
            "_model_name": "DescriptionStyleModel",
            "_view_count": null,
            "_view_module": "@jupyter-widgets/base",
            "_view_module_version": "1.2.0",
            "_view_name": "StyleView",
            "description_width": ""
          }
        },
        "8f17911a9d394005a98138f4946e2b0a": {
          "model_module": "@jupyter-widgets/base",
          "model_name": "LayoutModel",
          "model_module_version": "1.2.0",
          "state": {
            "_model_module": "@jupyter-widgets/base",
            "_model_module_version": "1.2.0",
            "_model_name": "LayoutModel",
            "_view_count": null,
            "_view_module": "@jupyter-widgets/base",
            "_view_module_version": "1.2.0",
            "_view_name": "LayoutView",
            "align_content": null,
            "align_items": null,
            "align_self": null,
            "border": null,
            "bottom": null,
            "display": null,
            "flex": null,
            "flex_flow": null,
            "grid_area": null,
            "grid_auto_columns": null,
            "grid_auto_flow": null,
            "grid_auto_rows": null,
            "grid_column": null,
            "grid_gap": null,
            "grid_row": null,
            "grid_template_areas": null,
            "grid_template_columns": null,
            "grid_template_rows": null,
            "height": null,
            "justify_content": null,
            "justify_items": null,
            "left": null,
            "margin": null,
            "max_height": null,
            "max_width": null,
            "min_height": null,
            "min_width": null,
            "object_fit": null,
            "object_position": null,
            "order": null,
            "overflow": null,
            "overflow_x": null,
            "overflow_y": null,
            "padding": null,
            "right": null,
            "top": null,
            "visibility": null,
            "width": null
          }
        },
        "788dbd16472645db9c7a762bce33e040": {
          "model_module": "@jupyter-widgets/controls",
          "model_name": "ProgressStyleModel",
          "model_module_version": "1.5.0",
          "state": {
            "_model_module": "@jupyter-widgets/controls",
            "_model_module_version": "1.5.0",
            "_model_name": "ProgressStyleModel",
            "_view_count": null,
            "_view_module": "@jupyter-widgets/base",
            "_view_module_version": "1.2.0",
            "_view_name": "StyleView",
            "bar_color": null,
            "description_width": ""
          }
        },
        "25d8e7618523437fbd3a0fd86c0b7367": {
          "model_module": "@jupyter-widgets/base",
          "model_name": "LayoutModel",
          "model_module_version": "1.2.0",
          "state": {
            "_model_module": "@jupyter-widgets/base",
            "_model_module_version": "1.2.0",
            "_model_name": "LayoutModel",
            "_view_count": null,
            "_view_module": "@jupyter-widgets/base",
            "_view_module_version": "1.2.0",
            "_view_name": "LayoutView",
            "align_content": null,
            "align_items": null,
            "align_self": null,
            "border": null,
            "bottom": null,
            "display": null,
            "flex": null,
            "flex_flow": null,
            "grid_area": null,
            "grid_auto_columns": null,
            "grid_auto_flow": null,
            "grid_auto_rows": null,
            "grid_column": null,
            "grid_gap": null,
            "grid_row": null,
            "grid_template_areas": null,
            "grid_template_columns": null,
            "grid_template_rows": null,
            "height": null,
            "justify_content": null,
            "justify_items": null,
            "left": null,
            "margin": null,
            "max_height": null,
            "max_width": null,
            "min_height": null,
            "min_width": null,
            "object_fit": null,
            "object_position": null,
            "order": null,
            "overflow": null,
            "overflow_x": null,
            "overflow_y": null,
            "padding": null,
            "right": null,
            "top": null,
            "visibility": null,
            "width": null
          }
        },
        "d5ee3cf17420468d8bfb1d8a1d34dc68": {
          "model_module": "@jupyter-widgets/controls",
          "model_name": "DescriptionStyleModel",
          "model_module_version": "1.5.0",
          "state": {
            "_model_module": "@jupyter-widgets/controls",
            "_model_module_version": "1.5.0",
            "_model_name": "DescriptionStyleModel",
            "_view_count": null,
            "_view_module": "@jupyter-widgets/base",
            "_view_module_version": "1.2.0",
            "_view_name": "StyleView",
            "description_width": ""
          }
        },
        "9beb20103c3a41ab9b104fb30bdf2be0": {
          "model_module": "@jupyter-widgets/controls",
          "model_name": "HBoxModel",
          "model_module_version": "1.5.0",
          "state": {
            "_dom_classes": [],
            "_model_module": "@jupyter-widgets/controls",
            "_model_module_version": "1.5.0",
            "_model_name": "HBoxModel",
            "_view_count": null,
            "_view_module": "@jupyter-widgets/controls",
            "_view_module_version": "1.5.0",
            "_view_name": "HBoxView",
            "box_style": "",
            "children": [
              "IPY_MODEL_656a71a5cf7a44e7963ab3b33cc064a4",
              "IPY_MODEL_beed5319a2c94b3dbe991728e742e767",
              "IPY_MODEL_aada2ec6bc624a77a4a7d58ae97ac83e"
            ],
            "layout": "IPY_MODEL_3d3889a69c884e418ae10576dd215ed1"
          }
        },
        "656a71a5cf7a44e7963ab3b33cc064a4": {
          "model_module": "@jupyter-widgets/controls",
          "model_name": "HTMLModel",
          "model_module_version": "1.5.0",
          "state": {
            "_dom_classes": [],
            "_model_module": "@jupyter-widgets/controls",
            "_model_module_version": "1.5.0",
            "_model_name": "HTMLModel",
            "_view_count": null,
            "_view_module": "@jupyter-widgets/controls",
            "_view_module_version": "1.5.0",
            "_view_name": "HTMLView",
            "description": "",
            "description_tooltip": null,
            "layout": "IPY_MODEL_0533b4943719430aad18252560a5134f",
            "placeholder": "​",
            "style": "IPY_MODEL_8990d4dd0e754d8a963a63156a59d55f",
            "value": "Finding Elimination Order: : 100%"
          }
        },
        "beed5319a2c94b3dbe991728e742e767": {
          "model_module": "@jupyter-widgets/controls",
          "model_name": "FloatProgressModel",
          "model_module_version": "1.5.0",
          "state": {
            "_dom_classes": [],
            "_model_module": "@jupyter-widgets/controls",
            "_model_module_version": "1.5.0",
            "_model_name": "FloatProgressModel",
            "_view_count": null,
            "_view_module": "@jupyter-widgets/controls",
            "_view_module_version": "1.5.0",
            "_view_name": "ProgressView",
            "bar_style": "success",
            "description": "",
            "description_tooltip": null,
            "layout": "IPY_MODEL_cb0858b5b32445bd84a94893ca530304",
            "max": 3,
            "min": 0,
            "orientation": "horizontal",
            "style": "IPY_MODEL_fb23b0df67b3406a88209a3783a384da",
            "value": 3
          }
        },
        "aada2ec6bc624a77a4a7d58ae97ac83e": {
          "model_module": "@jupyter-widgets/controls",
          "model_name": "HTMLModel",
          "model_module_version": "1.5.0",
          "state": {
            "_dom_classes": [],
            "_model_module": "@jupyter-widgets/controls",
            "_model_module_version": "1.5.0",
            "_model_name": "HTMLModel",
            "_view_count": null,
            "_view_module": "@jupyter-widgets/controls",
            "_view_module_version": "1.5.0",
            "_view_name": "HTMLView",
            "description": "",
            "description_tooltip": null,
            "layout": "IPY_MODEL_1dfccfb5e4f147b1bf654d7fbe353f82",
            "placeholder": "​",
            "style": "IPY_MODEL_b10985f5883b48c9aabeac389e054027",
            "value": " 3/3 [00:18&lt;00:00,  6.13s/it]"
          }
        },
        "3d3889a69c884e418ae10576dd215ed1": {
          "model_module": "@jupyter-widgets/base",
          "model_name": "LayoutModel",
          "model_module_version": "1.2.0",
          "state": {
            "_model_module": "@jupyter-widgets/base",
            "_model_module_version": "1.2.0",
            "_model_name": "LayoutModel",
            "_view_count": null,
            "_view_module": "@jupyter-widgets/base",
            "_view_module_version": "1.2.0",
            "_view_name": "LayoutView",
            "align_content": null,
            "align_items": null,
            "align_self": null,
            "border": null,
            "bottom": null,
            "display": null,
            "flex": null,
            "flex_flow": null,
            "grid_area": null,
            "grid_auto_columns": null,
            "grid_auto_flow": null,
            "grid_auto_rows": null,
            "grid_column": null,
            "grid_gap": null,
            "grid_row": null,
            "grid_template_areas": null,
            "grid_template_columns": null,
            "grid_template_rows": null,
            "height": null,
            "justify_content": null,
            "justify_items": null,
            "left": null,
            "margin": null,
            "max_height": null,
            "max_width": null,
            "min_height": null,
            "min_width": null,
            "object_fit": null,
            "object_position": null,
            "order": null,
            "overflow": null,
            "overflow_x": null,
            "overflow_y": null,
            "padding": null,
            "right": null,
            "top": null,
            "visibility": null,
            "width": null
          }
        },
        "0533b4943719430aad18252560a5134f": {
          "model_module": "@jupyter-widgets/base",
          "model_name": "LayoutModel",
          "model_module_version": "1.2.0",
          "state": {
            "_model_module": "@jupyter-widgets/base",
            "_model_module_version": "1.2.0",
            "_model_name": "LayoutModel",
            "_view_count": null,
            "_view_module": "@jupyter-widgets/base",
            "_view_module_version": "1.2.0",
            "_view_name": "LayoutView",
            "align_content": null,
            "align_items": null,
            "align_self": null,
            "border": null,
            "bottom": null,
            "display": null,
            "flex": null,
            "flex_flow": null,
            "grid_area": null,
            "grid_auto_columns": null,
            "grid_auto_flow": null,
            "grid_auto_rows": null,
            "grid_column": null,
            "grid_gap": null,
            "grid_row": null,
            "grid_template_areas": null,
            "grid_template_columns": null,
            "grid_template_rows": null,
            "height": null,
            "justify_content": null,
            "justify_items": null,
            "left": null,
            "margin": null,
            "max_height": null,
            "max_width": null,
            "min_height": null,
            "min_width": null,
            "object_fit": null,
            "object_position": null,
            "order": null,
            "overflow": null,
            "overflow_x": null,
            "overflow_y": null,
            "padding": null,
            "right": null,
            "top": null,
            "visibility": null,
            "width": null
          }
        },
        "8990d4dd0e754d8a963a63156a59d55f": {
          "model_module": "@jupyter-widgets/controls",
          "model_name": "DescriptionStyleModel",
          "model_module_version": "1.5.0",
          "state": {
            "_model_module": "@jupyter-widgets/controls",
            "_model_module_version": "1.5.0",
            "_model_name": "DescriptionStyleModel",
            "_view_count": null,
            "_view_module": "@jupyter-widgets/base",
            "_view_module_version": "1.2.0",
            "_view_name": "StyleView",
            "description_width": ""
          }
        },
        "cb0858b5b32445bd84a94893ca530304": {
          "model_module": "@jupyter-widgets/base",
          "model_name": "LayoutModel",
          "model_module_version": "1.2.0",
          "state": {
            "_model_module": "@jupyter-widgets/base",
            "_model_module_version": "1.2.0",
            "_model_name": "LayoutModel",
            "_view_count": null,
            "_view_module": "@jupyter-widgets/base",
            "_view_module_version": "1.2.0",
            "_view_name": "LayoutView",
            "align_content": null,
            "align_items": null,
            "align_self": null,
            "border": null,
            "bottom": null,
            "display": null,
            "flex": null,
            "flex_flow": null,
            "grid_area": null,
            "grid_auto_columns": null,
            "grid_auto_flow": null,
            "grid_auto_rows": null,
            "grid_column": null,
            "grid_gap": null,
            "grid_row": null,
            "grid_template_areas": null,
            "grid_template_columns": null,
            "grid_template_rows": null,
            "height": null,
            "justify_content": null,
            "justify_items": null,
            "left": null,
            "margin": null,
            "max_height": null,
            "max_width": null,
            "min_height": null,
            "min_width": null,
            "object_fit": null,
            "object_position": null,
            "order": null,
            "overflow": null,
            "overflow_x": null,
            "overflow_y": null,
            "padding": null,
            "right": null,
            "top": null,
            "visibility": null,
            "width": null
          }
        },
        "fb23b0df67b3406a88209a3783a384da": {
          "model_module": "@jupyter-widgets/controls",
          "model_name": "ProgressStyleModel",
          "model_module_version": "1.5.0",
          "state": {
            "_model_module": "@jupyter-widgets/controls",
            "_model_module_version": "1.5.0",
            "_model_name": "ProgressStyleModel",
            "_view_count": null,
            "_view_module": "@jupyter-widgets/base",
            "_view_module_version": "1.2.0",
            "_view_name": "StyleView",
            "bar_color": null,
            "description_width": ""
          }
        },
        "1dfccfb5e4f147b1bf654d7fbe353f82": {
          "model_module": "@jupyter-widgets/base",
          "model_name": "LayoutModel",
          "model_module_version": "1.2.0",
          "state": {
            "_model_module": "@jupyter-widgets/base",
            "_model_module_version": "1.2.0",
            "_model_name": "LayoutModel",
            "_view_count": null,
            "_view_module": "@jupyter-widgets/base",
            "_view_module_version": "1.2.0",
            "_view_name": "LayoutView",
            "align_content": null,
            "align_items": null,
            "align_self": null,
            "border": null,
            "bottom": null,
            "display": null,
            "flex": null,
            "flex_flow": null,
            "grid_area": null,
            "grid_auto_columns": null,
            "grid_auto_flow": null,
            "grid_auto_rows": null,
            "grid_column": null,
            "grid_gap": null,
            "grid_row": null,
            "grid_template_areas": null,
            "grid_template_columns": null,
            "grid_template_rows": null,
            "height": null,
            "justify_content": null,
            "justify_items": null,
            "left": null,
            "margin": null,
            "max_height": null,
            "max_width": null,
            "min_height": null,
            "min_width": null,
            "object_fit": null,
            "object_position": null,
            "order": null,
            "overflow": null,
            "overflow_x": null,
            "overflow_y": null,
            "padding": null,
            "right": null,
            "top": null,
            "visibility": null,
            "width": null
          }
        },
        "b10985f5883b48c9aabeac389e054027": {
          "model_module": "@jupyter-widgets/controls",
          "model_name": "DescriptionStyleModel",
          "model_module_version": "1.5.0",
          "state": {
            "_model_module": "@jupyter-widgets/controls",
            "_model_module_version": "1.5.0",
            "_model_name": "DescriptionStyleModel",
            "_view_count": null,
            "_view_module": "@jupyter-widgets/base",
            "_view_module_version": "1.2.0",
            "_view_name": "StyleView",
            "description_width": ""
          }
        },
        "67a42de2db0a4c1f915901dee5503e23": {
          "model_module": "@jupyter-widgets/controls",
          "model_name": "HBoxModel",
          "model_module_version": "1.5.0",
          "state": {
            "_dom_classes": [],
            "_model_module": "@jupyter-widgets/controls",
            "_model_module_version": "1.5.0",
            "_model_name": "HBoxModel",
            "_view_count": null,
            "_view_module": "@jupyter-widgets/controls",
            "_view_module_version": "1.5.0",
            "_view_name": "HBoxView",
            "box_style": "",
            "children": [
              "IPY_MODEL_1e6ebafc184643229197b61d5c915320",
              "IPY_MODEL_7e2ecfd18ffb4b6ba89e312e87d50996",
              "IPY_MODEL_bb33b0212ee94bab97fd948651716e59"
            ],
            "layout": "IPY_MODEL_049e9375254248299ba5bc4c3e4cc2d9"
          }
        },
        "1e6ebafc184643229197b61d5c915320": {
          "model_module": "@jupyter-widgets/controls",
          "model_name": "HTMLModel",
          "model_module_version": "1.5.0",
          "state": {
            "_dom_classes": [],
            "_model_module": "@jupyter-widgets/controls",
            "_model_module_version": "1.5.0",
            "_model_name": "HTMLModel",
            "_view_count": null,
            "_view_module": "@jupyter-widgets/controls",
            "_view_module_version": "1.5.0",
            "_view_name": "HTMLView",
            "description": "",
            "description_tooltip": null,
            "layout": "IPY_MODEL_3032487f3e8c4d7d9ca8906b3b04088e",
            "placeholder": "​",
            "style": "IPY_MODEL_d3d72bf365cc4ad78419822f6b717db4",
            "value": "Eliminating: precios_altos: 100%"
          }
        },
        "7e2ecfd18ffb4b6ba89e312e87d50996": {
          "model_module": "@jupyter-widgets/controls",
          "model_name": "FloatProgressModel",
          "model_module_version": "1.5.0",
          "state": {
            "_dom_classes": [],
            "_model_module": "@jupyter-widgets/controls",
            "_model_module_version": "1.5.0",
            "_model_name": "FloatProgressModel",
            "_view_count": null,
            "_view_module": "@jupyter-widgets/controls",
            "_view_module_version": "1.5.0",
            "_view_name": "ProgressView",
            "bar_style": "success",
            "description": "",
            "description_tooltip": null,
            "layout": "IPY_MODEL_f6c6393548f841b0808ccfbfa2f260ce",
            "max": 3,
            "min": 0,
            "orientation": "horizontal",
            "style": "IPY_MODEL_79a34b3e84344bc4954f5e9dab09a568",
            "value": 3
          }
        },
        "bb33b0212ee94bab97fd948651716e59": {
          "model_module": "@jupyter-widgets/controls",
          "model_name": "HTMLModel",
          "model_module_version": "1.5.0",
          "state": {
            "_dom_classes": [],
            "_model_module": "@jupyter-widgets/controls",
            "_model_module_version": "1.5.0",
            "_model_name": "HTMLModel",
            "_view_count": null,
            "_view_module": "@jupyter-widgets/controls",
            "_view_module_version": "1.5.0",
            "_view_name": "HTMLView",
            "description": "",
            "description_tooltip": null,
            "layout": "IPY_MODEL_cbd86f46410542feb80f41c263247fbd",
            "placeholder": "​",
            "style": "IPY_MODEL_d2987bc4e1574646ac3549881c6f4b37",
            "value": " 3/3 [00:00&lt;00:00, 59.00it/s]"
          }
        },
        "049e9375254248299ba5bc4c3e4cc2d9": {
          "model_module": "@jupyter-widgets/base",
          "model_name": "LayoutModel",
          "model_module_version": "1.2.0",
          "state": {
            "_model_module": "@jupyter-widgets/base",
            "_model_module_version": "1.2.0",
            "_model_name": "LayoutModel",
            "_view_count": null,
            "_view_module": "@jupyter-widgets/base",
            "_view_module_version": "1.2.0",
            "_view_name": "LayoutView",
            "align_content": null,
            "align_items": null,
            "align_self": null,
            "border": null,
            "bottom": null,
            "display": null,
            "flex": null,
            "flex_flow": null,
            "grid_area": null,
            "grid_auto_columns": null,
            "grid_auto_flow": null,
            "grid_auto_rows": null,
            "grid_column": null,
            "grid_gap": null,
            "grid_row": null,
            "grid_template_areas": null,
            "grid_template_columns": null,
            "grid_template_rows": null,
            "height": null,
            "justify_content": null,
            "justify_items": null,
            "left": null,
            "margin": null,
            "max_height": null,
            "max_width": null,
            "min_height": null,
            "min_width": null,
            "object_fit": null,
            "object_position": null,
            "order": null,
            "overflow": null,
            "overflow_x": null,
            "overflow_y": null,
            "padding": null,
            "right": null,
            "top": null,
            "visibility": null,
            "width": null
          }
        },
        "3032487f3e8c4d7d9ca8906b3b04088e": {
          "model_module": "@jupyter-widgets/base",
          "model_name": "LayoutModel",
          "model_module_version": "1.2.0",
          "state": {
            "_model_module": "@jupyter-widgets/base",
            "_model_module_version": "1.2.0",
            "_model_name": "LayoutModel",
            "_view_count": null,
            "_view_module": "@jupyter-widgets/base",
            "_view_module_version": "1.2.0",
            "_view_name": "LayoutView",
            "align_content": null,
            "align_items": null,
            "align_self": null,
            "border": null,
            "bottom": null,
            "display": null,
            "flex": null,
            "flex_flow": null,
            "grid_area": null,
            "grid_auto_columns": null,
            "grid_auto_flow": null,
            "grid_auto_rows": null,
            "grid_column": null,
            "grid_gap": null,
            "grid_row": null,
            "grid_template_areas": null,
            "grid_template_columns": null,
            "grid_template_rows": null,
            "height": null,
            "justify_content": null,
            "justify_items": null,
            "left": null,
            "margin": null,
            "max_height": null,
            "max_width": null,
            "min_height": null,
            "min_width": null,
            "object_fit": null,
            "object_position": null,
            "order": null,
            "overflow": null,
            "overflow_x": null,
            "overflow_y": null,
            "padding": null,
            "right": null,
            "top": null,
            "visibility": null,
            "width": null
          }
        },
        "d3d72bf365cc4ad78419822f6b717db4": {
          "model_module": "@jupyter-widgets/controls",
          "model_name": "DescriptionStyleModel",
          "model_module_version": "1.5.0",
          "state": {
            "_model_module": "@jupyter-widgets/controls",
            "_model_module_version": "1.5.0",
            "_model_name": "DescriptionStyleModel",
            "_view_count": null,
            "_view_module": "@jupyter-widgets/base",
            "_view_module_version": "1.2.0",
            "_view_name": "StyleView",
            "description_width": ""
          }
        },
        "f6c6393548f841b0808ccfbfa2f260ce": {
          "model_module": "@jupyter-widgets/base",
          "model_name": "LayoutModel",
          "model_module_version": "1.2.0",
          "state": {
            "_model_module": "@jupyter-widgets/base",
            "_model_module_version": "1.2.0",
            "_model_name": "LayoutModel",
            "_view_count": null,
            "_view_module": "@jupyter-widgets/base",
            "_view_module_version": "1.2.0",
            "_view_name": "LayoutView",
            "align_content": null,
            "align_items": null,
            "align_self": null,
            "border": null,
            "bottom": null,
            "display": null,
            "flex": null,
            "flex_flow": null,
            "grid_area": null,
            "grid_auto_columns": null,
            "grid_auto_flow": null,
            "grid_auto_rows": null,
            "grid_column": null,
            "grid_gap": null,
            "grid_row": null,
            "grid_template_areas": null,
            "grid_template_columns": null,
            "grid_template_rows": null,
            "height": null,
            "justify_content": null,
            "justify_items": null,
            "left": null,
            "margin": null,
            "max_height": null,
            "max_width": null,
            "min_height": null,
            "min_width": null,
            "object_fit": null,
            "object_position": null,
            "order": null,
            "overflow": null,
            "overflow_x": null,
            "overflow_y": null,
            "padding": null,
            "right": null,
            "top": null,
            "visibility": null,
            "width": null
          }
        },
        "79a34b3e84344bc4954f5e9dab09a568": {
          "model_module": "@jupyter-widgets/controls",
          "model_name": "ProgressStyleModel",
          "model_module_version": "1.5.0",
          "state": {
            "_model_module": "@jupyter-widgets/controls",
            "_model_module_version": "1.5.0",
            "_model_name": "ProgressStyleModel",
            "_view_count": null,
            "_view_module": "@jupyter-widgets/base",
            "_view_module_version": "1.2.0",
            "_view_name": "StyleView",
            "bar_color": null,
            "description_width": ""
          }
        },
        "cbd86f46410542feb80f41c263247fbd": {
          "model_module": "@jupyter-widgets/base",
          "model_name": "LayoutModel",
          "model_module_version": "1.2.0",
          "state": {
            "_model_module": "@jupyter-widgets/base",
            "_model_module_version": "1.2.0",
            "_model_name": "LayoutModel",
            "_view_count": null,
            "_view_module": "@jupyter-widgets/base",
            "_view_module_version": "1.2.0",
            "_view_name": "LayoutView",
            "align_content": null,
            "align_items": null,
            "align_self": null,
            "border": null,
            "bottom": null,
            "display": null,
            "flex": null,
            "flex_flow": null,
            "grid_area": null,
            "grid_auto_columns": null,
            "grid_auto_flow": null,
            "grid_auto_rows": null,
            "grid_column": null,
            "grid_gap": null,
            "grid_row": null,
            "grid_template_areas": null,
            "grid_template_columns": null,
            "grid_template_rows": null,
            "height": null,
            "justify_content": null,
            "justify_items": null,
            "left": null,
            "margin": null,
            "max_height": null,
            "max_width": null,
            "min_height": null,
            "min_width": null,
            "object_fit": null,
            "object_position": null,
            "order": null,
            "overflow": null,
            "overflow_x": null,
            "overflow_y": null,
            "padding": null,
            "right": null,
            "top": null,
            "visibility": null,
            "width": null
          }
        },
        "d2987bc4e1574646ac3549881c6f4b37": {
          "model_module": "@jupyter-widgets/controls",
          "model_name": "DescriptionStyleModel",
          "model_module_version": "1.5.0",
          "state": {
            "_model_module": "@jupyter-widgets/controls",
            "_model_module_version": "1.5.0",
            "_model_name": "DescriptionStyleModel",
            "_view_count": null,
            "_view_module": "@jupyter-widgets/base",
            "_view_module_version": "1.2.0",
            "_view_name": "StyleView",
            "description_width": ""
          }
        },
        "e45c63f0a18f49ad9554117415e9993f": {
          "model_module": "@jupyter-widgets/controls",
          "model_name": "HBoxModel",
          "model_module_version": "1.5.0",
          "state": {
            "_dom_classes": [],
            "_model_module": "@jupyter-widgets/controls",
            "_model_module_version": "1.5.0",
            "_model_name": "HBoxModel",
            "_view_count": null,
            "_view_module": "@jupyter-widgets/controls",
            "_view_module_version": "1.5.0",
            "_view_name": "HBoxView",
            "box_style": "",
            "children": [
              "IPY_MODEL_35c639e77b9d42c1b839b60b58bce71c",
              "IPY_MODEL_9516ea3496dd452cbff1a85803167df8",
              "IPY_MODEL_0d939355700a404387dec4ce24845926"
            ],
            "layout": "IPY_MODEL_1447491038de4f9ea222b0edddd4db0f"
          }
        },
        "35c639e77b9d42c1b839b60b58bce71c": {
          "model_module": "@jupyter-widgets/controls",
          "model_name": "HTMLModel",
          "model_module_version": "1.5.0",
          "state": {
            "_dom_classes": [],
            "_model_module": "@jupyter-widgets/controls",
            "_model_module_version": "1.5.0",
            "_model_name": "HTMLModel",
            "_view_count": null,
            "_view_module": "@jupyter-widgets/controls",
            "_view_module_version": "1.5.0",
            "_view_name": "HTMLView",
            "description": "",
            "description_tooltip": null,
            "layout": "IPY_MODEL_63ba9bbaed2d46a29bfa9c616e783e94",
            "placeholder": "​",
            "style": "IPY_MODEL_63b850a911ca4122b64c1fd7df7a6cc7",
            "value": "Finding Elimination Order: : 100%"
          }
        },
        "9516ea3496dd452cbff1a85803167df8": {
          "model_module": "@jupyter-widgets/controls",
          "model_name": "FloatProgressModel",
          "model_module_version": "1.5.0",
          "state": {
            "_dom_classes": [],
            "_model_module": "@jupyter-widgets/controls",
            "_model_module_version": "1.5.0",
            "_model_name": "FloatProgressModel",
            "_view_count": null,
            "_view_module": "@jupyter-widgets/controls",
            "_view_module_version": "1.5.0",
            "_view_name": "ProgressView",
            "bar_style": "success",
            "description": "",
            "description_tooltip": null,
            "layout": "IPY_MODEL_b82b78e616e44348a6a6ad528f817d5f",
            "max": 2,
            "min": 0,
            "orientation": "horizontal",
            "style": "IPY_MODEL_7512f8fda69445f9b9a85b053f4fe8cc",
            "value": 2
          }
        },
        "0d939355700a404387dec4ce24845926": {
          "model_module": "@jupyter-widgets/controls",
          "model_name": "HTMLModel",
          "model_module_version": "1.5.0",
          "state": {
            "_dom_classes": [],
            "_model_module": "@jupyter-widgets/controls",
            "_model_module_version": "1.5.0",
            "_model_name": "HTMLModel",
            "_view_count": null,
            "_view_module": "@jupyter-widgets/controls",
            "_view_module_version": "1.5.0",
            "_view_name": "HTMLView",
            "description": "",
            "description_tooltip": null,
            "layout": "IPY_MODEL_d342b75b830d409f8ee05fcb2199222a",
            "placeholder": "​",
            "style": "IPY_MODEL_a250c158560c44129462823d167d002d",
            "value": " 2/2 [00:17&lt;00:00,  8.76s/it]"
          }
        },
        "1447491038de4f9ea222b0edddd4db0f": {
          "model_module": "@jupyter-widgets/base",
          "model_name": "LayoutModel",
          "model_module_version": "1.2.0",
          "state": {
            "_model_module": "@jupyter-widgets/base",
            "_model_module_version": "1.2.0",
            "_model_name": "LayoutModel",
            "_view_count": null,
            "_view_module": "@jupyter-widgets/base",
            "_view_module_version": "1.2.0",
            "_view_name": "LayoutView",
            "align_content": null,
            "align_items": null,
            "align_self": null,
            "border": null,
            "bottom": null,
            "display": null,
            "flex": null,
            "flex_flow": null,
            "grid_area": null,
            "grid_auto_columns": null,
            "grid_auto_flow": null,
            "grid_auto_rows": null,
            "grid_column": null,
            "grid_gap": null,
            "grid_row": null,
            "grid_template_areas": null,
            "grid_template_columns": null,
            "grid_template_rows": null,
            "height": null,
            "justify_content": null,
            "justify_items": null,
            "left": null,
            "margin": null,
            "max_height": null,
            "max_width": null,
            "min_height": null,
            "min_width": null,
            "object_fit": null,
            "object_position": null,
            "order": null,
            "overflow": null,
            "overflow_x": null,
            "overflow_y": null,
            "padding": null,
            "right": null,
            "top": null,
            "visibility": null,
            "width": null
          }
        },
        "63ba9bbaed2d46a29bfa9c616e783e94": {
          "model_module": "@jupyter-widgets/base",
          "model_name": "LayoutModel",
          "model_module_version": "1.2.0",
          "state": {
            "_model_module": "@jupyter-widgets/base",
            "_model_module_version": "1.2.0",
            "_model_name": "LayoutModel",
            "_view_count": null,
            "_view_module": "@jupyter-widgets/base",
            "_view_module_version": "1.2.0",
            "_view_name": "LayoutView",
            "align_content": null,
            "align_items": null,
            "align_self": null,
            "border": null,
            "bottom": null,
            "display": null,
            "flex": null,
            "flex_flow": null,
            "grid_area": null,
            "grid_auto_columns": null,
            "grid_auto_flow": null,
            "grid_auto_rows": null,
            "grid_column": null,
            "grid_gap": null,
            "grid_row": null,
            "grid_template_areas": null,
            "grid_template_columns": null,
            "grid_template_rows": null,
            "height": null,
            "justify_content": null,
            "justify_items": null,
            "left": null,
            "margin": null,
            "max_height": null,
            "max_width": null,
            "min_height": null,
            "min_width": null,
            "object_fit": null,
            "object_position": null,
            "order": null,
            "overflow": null,
            "overflow_x": null,
            "overflow_y": null,
            "padding": null,
            "right": null,
            "top": null,
            "visibility": null,
            "width": null
          }
        },
        "63b850a911ca4122b64c1fd7df7a6cc7": {
          "model_module": "@jupyter-widgets/controls",
          "model_name": "DescriptionStyleModel",
          "model_module_version": "1.5.0",
          "state": {
            "_model_module": "@jupyter-widgets/controls",
            "_model_module_version": "1.5.0",
            "_model_name": "DescriptionStyleModel",
            "_view_count": null,
            "_view_module": "@jupyter-widgets/base",
            "_view_module_version": "1.2.0",
            "_view_name": "StyleView",
            "description_width": ""
          }
        },
        "b82b78e616e44348a6a6ad528f817d5f": {
          "model_module": "@jupyter-widgets/base",
          "model_name": "LayoutModel",
          "model_module_version": "1.2.0",
          "state": {
            "_model_module": "@jupyter-widgets/base",
            "_model_module_version": "1.2.0",
            "_model_name": "LayoutModel",
            "_view_count": null,
            "_view_module": "@jupyter-widgets/base",
            "_view_module_version": "1.2.0",
            "_view_name": "LayoutView",
            "align_content": null,
            "align_items": null,
            "align_self": null,
            "border": null,
            "bottom": null,
            "display": null,
            "flex": null,
            "flex_flow": null,
            "grid_area": null,
            "grid_auto_columns": null,
            "grid_auto_flow": null,
            "grid_auto_rows": null,
            "grid_column": null,
            "grid_gap": null,
            "grid_row": null,
            "grid_template_areas": null,
            "grid_template_columns": null,
            "grid_template_rows": null,
            "height": null,
            "justify_content": null,
            "justify_items": null,
            "left": null,
            "margin": null,
            "max_height": null,
            "max_width": null,
            "min_height": null,
            "min_width": null,
            "object_fit": null,
            "object_position": null,
            "order": null,
            "overflow": null,
            "overflow_x": null,
            "overflow_y": null,
            "padding": null,
            "right": null,
            "top": null,
            "visibility": null,
            "width": null
          }
        },
        "7512f8fda69445f9b9a85b053f4fe8cc": {
          "model_module": "@jupyter-widgets/controls",
          "model_name": "ProgressStyleModel",
          "model_module_version": "1.5.0",
          "state": {
            "_model_module": "@jupyter-widgets/controls",
            "_model_module_version": "1.5.0",
            "_model_name": "ProgressStyleModel",
            "_view_count": null,
            "_view_module": "@jupyter-widgets/base",
            "_view_module_version": "1.2.0",
            "_view_name": "StyleView",
            "bar_color": null,
            "description_width": ""
          }
        },
        "d342b75b830d409f8ee05fcb2199222a": {
          "model_module": "@jupyter-widgets/base",
          "model_name": "LayoutModel",
          "model_module_version": "1.2.0",
          "state": {
            "_model_module": "@jupyter-widgets/base",
            "_model_module_version": "1.2.0",
            "_model_name": "LayoutModel",
            "_view_count": null,
            "_view_module": "@jupyter-widgets/base",
            "_view_module_version": "1.2.0",
            "_view_name": "LayoutView",
            "align_content": null,
            "align_items": null,
            "align_self": null,
            "border": null,
            "bottom": null,
            "display": null,
            "flex": null,
            "flex_flow": null,
            "grid_area": null,
            "grid_auto_columns": null,
            "grid_auto_flow": null,
            "grid_auto_rows": null,
            "grid_column": null,
            "grid_gap": null,
            "grid_row": null,
            "grid_template_areas": null,
            "grid_template_columns": null,
            "grid_template_rows": null,
            "height": null,
            "justify_content": null,
            "justify_items": null,
            "left": null,
            "margin": null,
            "max_height": null,
            "max_width": null,
            "min_height": null,
            "min_width": null,
            "object_fit": null,
            "object_position": null,
            "order": null,
            "overflow": null,
            "overflow_x": null,
            "overflow_y": null,
            "padding": null,
            "right": null,
            "top": null,
            "visibility": null,
            "width": null
          }
        },
        "a250c158560c44129462823d167d002d": {
          "model_module": "@jupyter-widgets/controls",
          "model_name": "DescriptionStyleModel",
          "model_module_version": "1.5.0",
          "state": {
            "_model_module": "@jupyter-widgets/controls",
            "_model_module_version": "1.5.0",
            "_model_name": "DescriptionStyleModel",
            "_view_count": null,
            "_view_module": "@jupyter-widgets/base",
            "_view_module_version": "1.2.0",
            "_view_name": "StyleView",
            "description_width": ""
          }
        },
        "3efc9deb8a5c44c99924c0d590a884dc": {
          "model_module": "@jupyter-widgets/controls",
          "model_name": "HBoxModel",
          "model_module_version": "1.5.0",
          "state": {
            "_dom_classes": [],
            "_model_module": "@jupyter-widgets/controls",
            "_model_module_version": "1.5.0",
            "_model_name": "HBoxModel",
            "_view_count": null,
            "_view_module": "@jupyter-widgets/controls",
            "_view_module_version": "1.5.0",
            "_view_name": "HBoxView",
            "box_style": "",
            "children": [
              "IPY_MODEL_f9c2c713698b4cecb0d835bafe798dcb",
              "IPY_MODEL_da0ac2907907464a8ca5e4bfd507ed37",
              "IPY_MODEL_df3e158b9c1e4e25bdd1593cbccd8b33"
            ],
            "layout": "IPY_MODEL_4c63ba7e544048409422215660fd5da1"
          }
        },
        "f9c2c713698b4cecb0d835bafe798dcb": {
          "model_module": "@jupyter-widgets/controls",
          "model_name": "HTMLModel",
          "model_module_version": "1.5.0",
          "state": {
            "_dom_classes": [],
            "_model_module": "@jupyter-widgets/controls",
            "_model_module_version": "1.5.0",
            "_model_name": "HTMLModel",
            "_view_count": null,
            "_view_module": "@jupyter-widgets/controls",
            "_view_module_version": "1.5.0",
            "_view_name": "HTMLView",
            "description": "",
            "description_tooltip": null,
            "layout": "IPY_MODEL_0b771952901e4e6aaa96b3e377ed6f71",
            "placeholder": "​",
            "style": "IPY_MODEL_e68be5c105e843c1a259880ee32e6066",
            "value": "Eliminating: precios_altos: 100%"
          }
        },
        "da0ac2907907464a8ca5e4bfd507ed37": {
          "model_module": "@jupyter-widgets/controls",
          "model_name": "FloatProgressModel",
          "model_module_version": "1.5.0",
          "state": {
            "_dom_classes": [],
            "_model_module": "@jupyter-widgets/controls",
            "_model_module_version": "1.5.0",
            "_model_name": "FloatProgressModel",
            "_view_count": null,
            "_view_module": "@jupyter-widgets/controls",
            "_view_module_version": "1.5.0",
            "_view_name": "ProgressView",
            "bar_style": "success",
            "description": "",
            "description_tooltip": null,
            "layout": "IPY_MODEL_4503b0ca24c74e0ba0840228bb544f64",
            "max": 2,
            "min": 0,
            "orientation": "horizontal",
            "style": "IPY_MODEL_46f11ec64ae94a3caf45a720fdb6960c",
            "value": 2
          }
        },
        "df3e158b9c1e4e25bdd1593cbccd8b33": {
          "model_module": "@jupyter-widgets/controls",
          "model_name": "HTMLModel",
          "model_module_version": "1.5.0",
          "state": {
            "_dom_classes": [],
            "_model_module": "@jupyter-widgets/controls",
            "_model_module_version": "1.5.0",
            "_model_name": "HTMLModel",
            "_view_count": null,
            "_view_module": "@jupyter-widgets/controls",
            "_view_module_version": "1.5.0",
            "_view_name": "HTMLView",
            "description": "",
            "description_tooltip": null,
            "layout": "IPY_MODEL_d12139c5e6104444a49db8ba644c9580",
            "placeholder": "​",
            "style": "IPY_MODEL_6e73994b6e23405c9378aeb7b22f04f1",
            "value": " 2/2 [00:00&lt;00:00, 35.24it/s]"
          }
        },
        "4c63ba7e544048409422215660fd5da1": {
          "model_module": "@jupyter-widgets/base",
          "model_name": "LayoutModel",
          "model_module_version": "1.2.0",
          "state": {
            "_model_module": "@jupyter-widgets/base",
            "_model_module_version": "1.2.0",
            "_model_name": "LayoutModel",
            "_view_count": null,
            "_view_module": "@jupyter-widgets/base",
            "_view_module_version": "1.2.0",
            "_view_name": "LayoutView",
            "align_content": null,
            "align_items": null,
            "align_self": null,
            "border": null,
            "bottom": null,
            "display": null,
            "flex": null,
            "flex_flow": null,
            "grid_area": null,
            "grid_auto_columns": null,
            "grid_auto_flow": null,
            "grid_auto_rows": null,
            "grid_column": null,
            "grid_gap": null,
            "grid_row": null,
            "grid_template_areas": null,
            "grid_template_columns": null,
            "grid_template_rows": null,
            "height": null,
            "justify_content": null,
            "justify_items": null,
            "left": null,
            "margin": null,
            "max_height": null,
            "max_width": null,
            "min_height": null,
            "min_width": null,
            "object_fit": null,
            "object_position": null,
            "order": null,
            "overflow": null,
            "overflow_x": null,
            "overflow_y": null,
            "padding": null,
            "right": null,
            "top": null,
            "visibility": null,
            "width": null
          }
        },
        "0b771952901e4e6aaa96b3e377ed6f71": {
          "model_module": "@jupyter-widgets/base",
          "model_name": "LayoutModel",
          "model_module_version": "1.2.0",
          "state": {
            "_model_module": "@jupyter-widgets/base",
            "_model_module_version": "1.2.0",
            "_model_name": "LayoutModel",
            "_view_count": null,
            "_view_module": "@jupyter-widgets/base",
            "_view_module_version": "1.2.0",
            "_view_name": "LayoutView",
            "align_content": null,
            "align_items": null,
            "align_self": null,
            "border": null,
            "bottom": null,
            "display": null,
            "flex": null,
            "flex_flow": null,
            "grid_area": null,
            "grid_auto_columns": null,
            "grid_auto_flow": null,
            "grid_auto_rows": null,
            "grid_column": null,
            "grid_gap": null,
            "grid_row": null,
            "grid_template_areas": null,
            "grid_template_columns": null,
            "grid_template_rows": null,
            "height": null,
            "justify_content": null,
            "justify_items": null,
            "left": null,
            "margin": null,
            "max_height": null,
            "max_width": null,
            "min_height": null,
            "min_width": null,
            "object_fit": null,
            "object_position": null,
            "order": null,
            "overflow": null,
            "overflow_x": null,
            "overflow_y": null,
            "padding": null,
            "right": null,
            "top": null,
            "visibility": null,
            "width": null
          }
        },
        "e68be5c105e843c1a259880ee32e6066": {
          "model_module": "@jupyter-widgets/controls",
          "model_name": "DescriptionStyleModel",
          "model_module_version": "1.5.0",
          "state": {
            "_model_module": "@jupyter-widgets/controls",
            "_model_module_version": "1.5.0",
            "_model_name": "DescriptionStyleModel",
            "_view_count": null,
            "_view_module": "@jupyter-widgets/base",
            "_view_module_version": "1.2.0",
            "_view_name": "StyleView",
            "description_width": ""
          }
        },
        "4503b0ca24c74e0ba0840228bb544f64": {
          "model_module": "@jupyter-widgets/base",
          "model_name": "LayoutModel",
          "model_module_version": "1.2.0",
          "state": {
            "_model_module": "@jupyter-widgets/base",
            "_model_module_version": "1.2.0",
            "_model_name": "LayoutModel",
            "_view_count": null,
            "_view_module": "@jupyter-widgets/base",
            "_view_module_version": "1.2.0",
            "_view_name": "LayoutView",
            "align_content": null,
            "align_items": null,
            "align_self": null,
            "border": null,
            "bottom": null,
            "display": null,
            "flex": null,
            "flex_flow": null,
            "grid_area": null,
            "grid_auto_columns": null,
            "grid_auto_flow": null,
            "grid_auto_rows": null,
            "grid_column": null,
            "grid_gap": null,
            "grid_row": null,
            "grid_template_areas": null,
            "grid_template_columns": null,
            "grid_template_rows": null,
            "height": null,
            "justify_content": null,
            "justify_items": null,
            "left": null,
            "margin": null,
            "max_height": null,
            "max_width": null,
            "min_height": null,
            "min_width": null,
            "object_fit": null,
            "object_position": null,
            "order": null,
            "overflow": null,
            "overflow_x": null,
            "overflow_y": null,
            "padding": null,
            "right": null,
            "top": null,
            "visibility": null,
            "width": null
          }
        },
        "46f11ec64ae94a3caf45a720fdb6960c": {
          "model_module": "@jupyter-widgets/controls",
          "model_name": "ProgressStyleModel",
          "model_module_version": "1.5.0",
          "state": {
            "_model_module": "@jupyter-widgets/controls",
            "_model_module_version": "1.5.0",
            "_model_name": "ProgressStyleModel",
            "_view_count": null,
            "_view_module": "@jupyter-widgets/base",
            "_view_module_version": "1.2.0",
            "_view_name": "StyleView",
            "bar_color": null,
            "description_width": ""
          }
        },
        "d12139c5e6104444a49db8ba644c9580": {
          "model_module": "@jupyter-widgets/base",
          "model_name": "LayoutModel",
          "model_module_version": "1.2.0",
          "state": {
            "_model_module": "@jupyter-widgets/base",
            "_model_module_version": "1.2.0",
            "_model_name": "LayoutModel",
            "_view_count": null,
            "_view_module": "@jupyter-widgets/base",
            "_view_module_version": "1.2.0",
            "_view_name": "LayoutView",
            "align_content": null,
            "align_items": null,
            "align_self": null,
            "border": null,
            "bottom": null,
            "display": null,
            "flex": null,
            "flex_flow": null,
            "grid_area": null,
            "grid_auto_columns": null,
            "grid_auto_flow": null,
            "grid_auto_rows": null,
            "grid_column": null,
            "grid_gap": null,
            "grid_row": null,
            "grid_template_areas": null,
            "grid_template_columns": null,
            "grid_template_rows": null,
            "height": null,
            "justify_content": null,
            "justify_items": null,
            "left": null,
            "margin": null,
            "max_height": null,
            "max_width": null,
            "min_height": null,
            "min_width": null,
            "object_fit": null,
            "object_position": null,
            "order": null,
            "overflow": null,
            "overflow_x": null,
            "overflow_y": null,
            "padding": null,
            "right": null,
            "top": null,
            "visibility": null,
            "width": null
          }
        },
        "6e73994b6e23405c9378aeb7b22f04f1": {
          "model_module": "@jupyter-widgets/controls",
          "model_name": "DescriptionStyleModel",
          "model_module_version": "1.5.0",
          "state": {
            "_model_module": "@jupyter-widgets/controls",
            "_model_module_version": "1.5.0",
            "_model_name": "DescriptionStyleModel",
            "_view_count": null,
            "_view_module": "@jupyter-widgets/base",
            "_view_module_version": "1.2.0",
            "_view_name": "StyleView",
            "description_width": ""
          }
        }
      }
    }
  },
  "cells": [
    {
      "cell_type": "markdown",
      "source": [
        "# Tarea 1 Inteligencia Artificial\n",
        "# Alumno: Javier Ramos\n",
        "\n",
        "---\n",
        "\n",
        "En el siguiente cuadro de codigo se instalan las  librerias que se usaran en el desarrollo de esta tarea, dichas librerias se listan a continuacion:\n",
        "\n",
        "*   bnlearn: Libreria necesaria para el trabajo y manejo de las redes bayesianas\n",
        "*   PyDTMC: Libreria Utilizada para ayudar en el manejo de las cadenas de markov\n",
        "\n",
        "\n",
        "Ademas se actualiza a una version de matplotlib para que funcione bnlearn correctamente (lo solicita al ejecutarse el pip de bnlearn, puede ser mayor a la 3.3.4, pero no menor, el segundo cuadro de codigo esta para verificar la version de matplotlib, en caso de que sea menor a 3.3.4, dirigirse a \"Entorno de ejecucio -> Reiniciar entorno de ejecucion, y verificar si se arreglo en el segundo cuadro, si no se arreglo, realizar la instalacion nuevamente)"
      ],
      "metadata": {
        "id": "UaQR-Yy96DKb"
      }
    },
    {
      "cell_type": "code",
      "source": [
        "!pip install -q PyDTMC\n",
        "!pip install -q --upgrade PyDTMC\n",
        "!pip install -q --upgrade matplotlib\n",
        "!pip install -q bnlearn\n"
      ],
      "metadata": {
        "id": "u0UJ1AchpSVN"
      },
      "execution_count": null,
      "outputs": []
    },
    {
      "cell_type": "code",
      "source": [
        "import matplotlib\n",
        "matplotlib.__version__\n"
      ],
      "metadata": {
        "colab": {
          "base_uri": "https://localhost:8080/",
          "height": 35
        },
        "id": "L3I6kKkgbTWl",
        "outputId": "c384860d-7692-40d9-94f8-b4bd36d1df7a"
      },
      "execution_count": null,
      "outputs": [
        {
          "output_type": "execute_result",
          "data": {
            "text/plain": [
              "'3.5.3'"
            ],
            "application/vnd.google.colaboratory.intrinsic+json": {
              "type": "string"
            }
          },
          "metadata": {},
          "execution_count": 3
        }
      ]
    },
    {
      "cell_type": "markdown",
      "source": [
        "#Enunciado 1:\n",
        "A continuacion , se comienza el desarrollo del Enunciado 1 de la tarea, para esto primero se debera subir el archivo \"dataset18.csv\", de esta forma el Colab-notebook podra trabajar con los datos que se encuentran dentro.\n",
        "Para esto se pide que corra el siguiente cuadro de codigo y cuando de la opcion de elegir archivo, suba el archivo anteriormente mencionado."
      ],
      "metadata": {
        "id": "Ue8y9b_95xez"
      }
    },
    {
      "cell_type": "code",
      "execution_count": null,
      "metadata": {
        "colab": {
          "resources": {
            "http://localhost:8080/nbextensions/google.colab/files.js": {
              "data": "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",
              "ok": true,
              "headers": [
                [
                  "content-type",
                  "application/javascript"
                ]
              ],
              "status": 200,
              "status_text": ""
            }
          },
          "base_uri": "https://localhost:8080/",
          "height": 73
        },
        "id": "LkljDQfVLKQQ",
        "outputId": "83f21a82-36f3-4b4f-d1db-e73848d06aef"
      },
      "outputs": [
        {
          "output_type": "display_data",
          "data": {
            "text/plain": [
              "<IPython.core.display.HTML object>"
            ],
            "text/html": [
              "\n",
              "     <input type=\"file\" id=\"files-e65c5efa-054c-4ca6-90a7-75418c3a5bbd\" name=\"files[]\" multiple disabled\n",
              "        style=\"border:none\" />\n",
              "     <output id=\"result-e65c5efa-054c-4ca6-90a7-75418c3a5bbd\">\n",
              "      Upload widget is only available when the cell has been executed in the\n",
              "      current browser session. Please rerun this cell to enable.\n",
              "      </output>\n",
              "      <script src=\"/nbextensions/google.colab/files.js\"></script> "
            ]
          },
          "metadata": {}
        },
        {
          "output_type": "stream",
          "name": "stdout",
          "text": [
            "Saving dataset18.csv to dataset18.csv\n"
          ]
        }
      ],
      "source": [
        "from google.colab import files\n",
        "uploaded = files.upload()"
      ]
    },
    {
      "cell_type": "markdown",
      "source": [
        "El siguiente cuadro de codigo puede demorar un poco al ejecutarse, dado que se usa la libreria bnlearn para aprender la red bayesiana en base a los datos y generar un grafo aciclico dirigido, el cual se almacena en la variable DAG."
      ],
      "metadata": {
        "id": "_Gd4moY_7QoY"
      }
    },
    {
      "cell_type": "code",
      "source": [
        "# Importacion de las librerias necesarias\n",
        "import bnlearn as bn\n",
        "from pandas import read_csv\n",
        "import io\n",
        "\n",
        "#Se carga el dataset entregado en un dataframe de pandas\n",
        "df = read_csv(io.BytesIO(uploaded['dataset18.csv']),usecols=[i for i in range(7)])\n",
        "\n",
        "dfhot, dfnum = bn.df2onehot(df)\n",
        "\n",
        "# Se aprende la estructura de la red bayesiana\n",
        "DAG = bn.structure_learning.fit(dfnum)\n"
      ],
      "metadata": {
        "colab": {
          "base_uri": "https://localhost:8080/",
          "height": 295
        },
        "id": "GTDoQagJLL15",
        "outputId": "83eec5c3-aff1-49a9-98c7-1ef9b49935fc"
      },
      "execution_count": null,
      "outputs": [
        {
          "output_type": "stream",
          "name": "stdout",
          "text": [
            "\n",
            "[df2onehot] >Auto detecting dtypes.\n"
          ]
        },
        {
          "output_type": "stream",
          "name": "stderr",
          "text": [
            "\n",
            "  0%|          | 0/7 [00:00<?, ?it/s]\u001b[A\n",
            " 14%|█▍        | 1/7 [00:02<00:15,  2.52s/it]\u001b[A\n",
            " 29%|██▊       | 2/7 [00:05<00:12,  2.50s/it]\u001b[A\n",
            " 43%|████▎     | 3/7 [00:07<00:09,  2.49s/it]\u001b[A\n",
            " 57%|█████▋    | 4/7 [00:10<00:07,  2.50s/it]\u001b[A\n",
            " 71%|███████▏  | 5/7 [00:12<00:04,  2.50s/it]\u001b[A\n",
            " 86%|████████▌ | 6/7 [00:15<00:02,  2.57s/it]\u001b[A\n",
            "100%|██████████| 7/7 [00:18<00:00,  2.65s/it]\n"
          ]
        },
        {
          "output_type": "stream",
          "name": "stdout",
          "text": [
            "[df2onehot] >Set dtypes in dataframe..\n"
          ]
        },
        {
          "output_type": "stream",
          "name": "stderr",
          "text": [
            "100%|██████████| 7/7 [00:02<00:00,  2.60it/s]\n"
          ]
        },
        {
          "output_type": "stream",
          "name": "stdout",
          "text": [
            "[df2onehot] >Total onehot features: 14\n",
            "[bnlearn] >Computing best DAG using [hc]\n",
            "[bnlearn] >Set scoring type at [bic]\n"
          ]
        }
      ]
    },
    {
      "cell_type": "markdown",
      "source": [
        "En el cuadro anterior se especifica las columnas que el metodo \"read_csv\" debe utilizar, se puede ver que se borro la ultima columna, dado que revisando los datos, se pudo observar que eran solo 0, por lo que no aportaban valor a la red, ademas se utilizo este metodo dado que al importarlos normalmente, la primera fila de datos se concideraba erroneamente como indice, con esta implementacion esto queda solucionado.\n",
        "\n",
        "Una vez aprendida la estructura de la red de bayes, se  procede a mostrar la red obtenida de manera grafica, ademas de realizar el parameter learning para su uso posterior en las inferencias."
      ],
      "metadata": {
        "id": "zN9mus0PcoeN"
      }
    },
    {
      "cell_type": "markdown",
      "source": [
        "---\n",
        "(Como nota aparte, a veces el modelo puede quedar distinto al modelo con el que se realizo este informe, debido al metodo que se utiliza para encontrar el DAG, por eso pido que si al correr el cuadro de codigo que viene mas abajo, no se obtiene algo igual a la imagen adjunta, que se reinicie el entorno de ejecucion y se re-ejecuten los cuadros de codigos hasta obtener estas dependencias.\n",
        "\n",
        "Si aun asi no cambia el DAG, seguir con la ejecucion normal pero algunos valores estaran invertidos.)"
      ],
      "metadata": {
        "id": "K8U7HlHV3Sei"
      }
    },
    {
      "cell_type": "markdown",
      "source": [
        "![DAG.png](data:image/png;base64,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)\n",
        "\n",
        "---"
      ],
      "metadata": {
        "id": "niFDlf653EMN"
      }
    },
    {
      "cell_type": "code",
      "source": [
        "# Plot\n",
        "G = bn.plot(DAG)"
      ],
      "metadata": {
        "colab": {
          "base_uri": "https://localhost:8080/",
          "height": 518
        },
        "id": "MKVMhxKUZD8O",
        "outputId": "ff12b62e-1491-46ab-a1f2-5775d2bfb9df"
      },
      "execution_count": null,
      "outputs": [
        {
          "output_type": "stream",
          "name": "stdout",
          "text": [
            "[bnlearn]> Set node properties.\n",
            "[bnlearn]> Set edge properties.\n",
            "[bnlearn] >Plot based on Bayesian model\n"
          ]
        },
        {
          "output_type": "display_data",
          "data": {
            "text/plain": [
              "<Figure size 1080x576 with 1 Axes>"
            ],
            "image/png": "[encoded data removed]"
          },
          "metadata": {}
        }
      ]
    },
    {
      "cell_type": "markdown",
      "source": [
        "##Caracteristicas y Elementos de la Red:\n",
        "Podemos notar entonces que tenemos 7 nodos, los cuales corresponden a:\n",
        "1.   guerra_ucrania\n",
        "2.   inflacion\n",
        "3.   precios_altos\n",
        "4.   escasez\n",
        "5.   no_confort\n",
        "6.   no_carne\n",
        "7.   no_alcohol\n",
        "\n",
        "Ademas, del diagrama podemos observar los siguientes parametros por medio de un analisis:\n",
        "\n",
        "\n",
        "*  $P(escasez)$.\n",
        "\n",
        "*  $P(inflacion \\mid escasez), P(inflacion \\mid ¬escasez)$.\n",
        "\n",
        "*  $P(guerra\\_ucrania \\mid escasez,inflacion), P(guerra\\_ucrania \\mid ¬escasez,inflacion), P(guerra\\_ucrania \\mid escasez,¬inflacion),\n",
        " P(guerra\\_ucrania \\mid ¬escasez,¬inflacion)$\n",
        "\n",
        "*   $P(precios\\_altos \\mid guerra\\_ucrania,inflacion), P(precios\\_altos \\mid ¬guerra\\_ucrania,inflacion), P(precios\\_altos \\mid guerra\\_ucrania,¬inflacion), P(precios\\_altos \\mid ¬guerra\\_ucrania,¬inflacion)$\n",
        "\n",
        "*   $P(no\\_confort \\mid escacez,precios\\_altos), P(no\\_confort \\mid ¬escacez,precios\\_altos), P(no\\_confort \\mid escacez,¬precios\\_altos), P(no\\_confort \\mid ¬escacez,¬precios\\_altos)$\n",
        "\n",
        "*   $P(no\\_carne \\mid escacez,precios\\_altos), P(no\\_carne \\mid ¬escacez,precios\\_altos), P(no\\_carne \\mid escacez,¬precios\\_altos), P(no\\_carne \\mid ¬escacez,¬precios\\_altos)$\n",
        "\n",
        "*   $P(no\\_alcohol \\mid escacez,precios\\_altos), P(no\\_alcohol \\mid ¬escacez,precios\\_altos), P(no\\_alcohol \\mid escacez,¬precios\\_altos), P(no\\_alcohol \\mid ¬escacez,¬precios\\_altos)$\n",
        "\n",
        "\n",
        "Por otra parte tenemos la configuracion de los nodos, donde:\n",
        "\n",
        "*   (escasez -> inflacion -> precios_altos) y (escasez -> guerra_ucrania -> precios_altos) se encuentran en serie.\n",
        "*   (escasez -> no_alcohool <- precios_altos), (escasez -> no_carne <- precios_altos) y (escasez -> no_confort <- precios_altos) son convergentes.\n",
        "*   (inflacion <- escasez -> guerra_ucrania), (precios_altos <- inflacion -> guerra_ucrania) son divergentes.\n",
        "\n",
        "\n",
        "\n",
        "\n"
      ],
      "metadata": {
        "id": "GZJ_qnTqLOMs"
      }
    },
    {
      "cell_type": "markdown",
      "source": [
        "#Inferencias\n",
        "---\n",
        "Se procede entonces a hacer el aprendizaje de parametros para tener las Distribuciones de Probabilidad Condicional\n",
        "(CPD por su sigla en ingles), las cuales serviran para ser analizadas posteriormente en las inferencias:"
      ],
      "metadata": {
        "id": "4zhzn40ONsd_"
      }
    },
    {
      "cell_type": "code",
      "source": [
        "model = bn.parameter_learning.fit(DAG, dfnum)"
      ],
      "metadata": {
        "colab": {
          "base_uri": "https://localhost:8080/"
        },
        "id": "hfrGHdZUD4Fv",
        "outputId": "235ea022-7f5a-4797-ab75-2dac4c0b977a"
      },
      "execution_count": null,
      "outputs": [
        {
          "output_type": "stream",
          "name": "stdout",
          "text": [
            "[bnlearn] >Parameter learning> Computing parameters using [bayes]\n",
            "[bnlearn] >Conversion of adjmat to BayesianNetwork.\n",
            "[bnlearn] >CPD of inflacion:\n",
            "+--------------+----------+\n",
            "| inflacion(0) | 0.200327 |\n",
            "+--------------+----------+\n",
            "| inflacion(1) | 0.799673 |\n",
            "+--------------+----------+\n",
            "[bnlearn] >CPD of precios_altos:\n",
            "+------------------+-----+---------------------+\n",
            "| guerra_ucrania   | ... | guerra_ucrania(1)   |\n",
            "+------------------+-----+---------------------+\n",
            "| inflacion        | ... | inflacion(1)        |\n",
            "+------------------+-----+---------------------+\n",
            "| precios_altos(0) | ... | 0.09951699272087622 |\n",
            "+------------------+-----+---------------------+\n",
            "| precios_altos(1) | ... | 0.9004830072791238  |\n",
            "+------------------+-----+---------------------+\n",
            "[bnlearn] >CPD of escasez:\n",
            "+----------------+-----+---------------------+\n",
            "| guerra_ucrania | ... | guerra_ucrania(1)   |\n",
            "+----------------+-----+---------------------+\n",
            "| inflacion      | ... | inflacion(1)        |\n",
            "+----------------+-----+---------------------+\n",
            "| precios_altos  | ... | precios_altos(1)    |\n",
            "+----------------+-----+---------------------+\n",
            "| escasez(0)     | ... | 0.30113136159630216 |\n",
            "+----------------+-----+---------------------+\n",
            "| escasez(1)     | ... | 0.6988686384036978  |\n",
            "+----------------+-----+---------------------+\n",
            "[bnlearn] >CPD of guerra_ucrania:\n",
            "+-------------------+----------+\n",
            "| guerra_ucrania(0) | 0.100448 |\n",
            "+-------------------+----------+\n",
            "| guerra_ucrania(1) | 0.899552 |\n",
            "+-------------------+----------+\n",
            "[bnlearn] >CPD of no_carne:\n",
            "+---------------+-----+---------------------+\n",
            "| escasez       | ... | escasez(1)          |\n",
            "+---------------+-----+---------------------+\n",
            "| precios_altos | ... | precios_altos(1)    |\n",
            "+---------------+-----+---------------------+\n",
            "| no_carne(0)   | ... | 0.20079186984055394 |\n",
            "+---------------+-----+---------------------+\n",
            "| no_carne(1)   | ... | 0.799208130159446   |\n",
            "+---------------+-----+---------------------+\n",
            "[bnlearn] >CPD of no_confort:\n",
            "+---------------+-----+--------------------+\n",
            "| escasez       | ... | escasez(1)         |\n",
            "+---------------+-----+--------------------+\n",
            "| precios_altos | ... | precios_altos(1)   |\n",
            "+---------------+-----+--------------------+\n",
            "| no_confort(0) | ... | 0.1000502774501939 |\n",
            "+---------------+-----+--------------------+\n",
            "| no_confort(1) | ... | 0.8999497225498061 |\n",
            "+---------------+-----+--------------------+\n",
            "[bnlearn] >CPD of no_alcohol:\n",
            "+---------------+-----+---------------------+\n",
            "| escasez       | ... | escasez(1)          |\n",
            "+---------------+-----+---------------------+\n",
            "| precios_altos | ... | precios_altos(1)    |\n",
            "+---------------+-----+---------------------+\n",
            "| no_alcohol(0) | ... | 0.40004768964025744 |\n",
            "+---------------+-----+---------------------+\n",
            "| no_alcohol(1) | ... | 0.5999523103597425  |\n",
            "+---------------+-----+---------------------+\n"
          ]
        }
      ]
    },
    {
      "cell_type": "markdown",
      "source": [
        "\n",
        "Primera inferencia:\n",
        "\n",
        "\"La Probabilidad de que haya escasez, dado que hay precios altos\"\n",
        "\n",
        "\"P(escasez|precios_altos=1)\""
      ],
      "metadata": {
        "id": "CfFeF0flgHwX"
      }
    },
    {
      "cell_type": "code",
      "source": [
        "inference1 = bn.inference.fit(model, variables = [\"escasez\"], evidence={'precios_altos':1}, verbose=1)\n",
        "print(inference1)"
      ],
      "metadata": {
        "colab": {
          "base_uri": "https://localhost:8080/",
          "height": 203,
          "referenced_widgets": [
            "23db651dc2e1438cb8c5764fa0e27cbb",
            "07c57e7d63184899b9a56c339d180153",
            "4566fca7b4f740fc8b445789c6f69487",
            "e108cf21646a4ebea25888d58e392be1",
            "5edbf22d66ed4fb0bfe1f1eab1869bd5",
            "0ee22d1da08246f78c28fa533ec3301a",
            "4ad7a501d96949ccad7ef0b1f02ec4ec",
            "f8e340f1f3964b078a2807914cee79cb",
            "996ea95e285e410498cd10bb0b0ca76b",
            "aec021cf715a47699816a9457ea5990c",
            "fde4b8fcfedf4146a239237b72025eeb",
            "f15d36011956409c834154c9aed0e417",
            "d9003590cb4e4247a60cd8af3b399ea3",
            "b7bdfb66941042118d547a1a522af1f6",
            "ddb3561c9c82430eb74127b37a5f5b24",
            "8c089b996eee49caa87a5ea1c4a3658b",
            "096b726043bb457cb9c13c1f1cbc21af",
            "de300c9292c64f409daf58b23730e426",
            "8f17911a9d394005a98138f4946e2b0a",
            "788dbd16472645db9c7a762bce33e040",
            "25d8e7618523437fbd3a0fd86c0b7367",
            "d5ee3cf17420468d8bfb1d8a1d34dc68"
          ]
        },
        "id": "7pF9FffkMoi6",
        "outputId": "52e0a38b-c288-45ec-b905-a733b9803a70"
      },
      "execution_count": null,
      "outputs": [
        {
          "output_type": "display_data",
          "data": {
            "text/plain": [
              "  0%|          | 0/2 [00:00<?, ?it/s]"
            ],
            "application/vnd.jupyter.widget-view+json": {
              "version_major": 2,
              "version_minor": 0,
              "model_id": "23db651dc2e1438cb8c5764fa0e27cbb"
            }
          },
          "metadata": {}
        },
        {
          "output_type": "display_data",
          "data": {
            "text/plain": [
              "  0%|          | 0/2 [00:00<?, ?it/s]"
            ],
            "application/vnd.jupyter.widget-view+json": {
              "version_major": 2,
              "version_minor": 0,
              "model_id": "f15d36011956409c834154c9aed0e417"
            }
          },
          "metadata": {}
        },
        {
          "output_type": "stream",
          "name": "stdout",
          "text": [
            "+------------+----------------+\n",
            "| escasez    |   phi(escasez) |\n",
            "+============+================+\n",
            "| escasez(0) |         0.3153 |\n",
            "+------------+----------------+\n",
            "| escasez(1) |         0.6847 |\n",
            "+------------+----------------+\n"
          ]
        }
      ]
    },
    {
      "cell_type": "markdown",
      "source": [
        "El resultado que retorna la funcion se puede leer como:\n",
        "\n",
        "- \"Dado que hay precios altos, la probabilidad de que no haya escasez es 0.315\"\n",
        "- \"Dado que hay precios altos, la probabilidad de que haya escasez es 0.685\"\n",
        "\n",
        "Por lo que la probabilidad de que haya escasez dado que hay precios altos es de un 68%\n",
        "\n",
        "Se puede observar del CPD de escasez (más arriba), que su probabilidad aumento favorablemente para el caso Verdadero.\n",
        "Ademas si observamos más arriba, en el CPD de precios altos, podemos observar que tiene distribuciones definidas para el caso en que escasez es 1 y la guerra tambien es 1, en este mismo CPD se ve que hay mas probabilidad que haya precios altos, siendo un 90%, por lo cual al definir que si hubo precios altos como parte de nuestra inferencia, cambiaria el modelo, lo cual genera un aumento en la probabilidad de la escasez en un 1.2%\n",
        "\n",
        "---"
      ],
      "metadata": {
        "id": "nXex-bs4YXC0"
      }
    },
    {
      "cell_type": "markdown",
      "source": [
        "Segunda Inferencia:\n",
        "\n",
        "\"Probabilidad de que no haya inflacion, dado que hay alcohol y carne y no hay confort\"\n",
        "\n",
        "\"P(inflacion|no_alcohol=0,no_carne=0,no_confort=1)\""
      ],
      "metadata": {
        "id": "b4Hx6nSNgHZp"
      }
    },
    {
      "cell_type": "code",
      "source": [
        "inference2 = bn.inference.fit(model, variables = [\"inflacion\"], evidence={'no_alcohol':0,'no_carne':0,'no_confort':1},verbose=1)\n",
        "print(inference2)"
      ],
      "metadata": {
        "colab": {
          "base_uri": "https://localhost:8080/",
          "height": 203,
          "referenced_widgets": [
            "9beb20103c3a41ab9b104fb30bdf2be0",
            "656a71a5cf7a44e7963ab3b33cc064a4",
            "beed5319a2c94b3dbe991728e742e767",
            "aada2ec6bc624a77a4a7d58ae97ac83e",
            "3d3889a69c884e418ae10576dd215ed1",
            "0533b4943719430aad18252560a5134f",
            "8990d4dd0e754d8a963a63156a59d55f",
            "cb0858b5b32445bd84a94893ca530304",
            "fb23b0df67b3406a88209a3783a384da",
            "1dfccfb5e4f147b1bf654d7fbe353f82",
            "b10985f5883b48c9aabeac389e054027",
            "67a42de2db0a4c1f915901dee5503e23",
            "1e6ebafc184643229197b61d5c915320",
            "7e2ecfd18ffb4b6ba89e312e87d50996",
            "bb33b0212ee94bab97fd948651716e59",
            "049e9375254248299ba5bc4c3e4cc2d9",
            "3032487f3e8c4d7d9ca8906b3b04088e",
            "d3d72bf365cc4ad78419822f6b717db4",
            "f6c6393548f841b0808ccfbfa2f260ce",
            "79a34b3e84344bc4954f5e9dab09a568",
            "cbd86f46410542feb80f41c263247fbd",
            "d2987bc4e1574646ac3549881c6f4b37"
          ]
        },
        "id": "vGrhDNx2aG6x",
        "outputId": "a4cc3214-9796-41a7-ba80-7ac1b6632ea9"
      },
      "execution_count": null,
      "outputs": [
        {
          "output_type": "display_data",
          "data": {
            "text/plain": [
              "  0%|          | 0/3 [00:00<?, ?it/s]"
            ],
            "application/vnd.jupyter.widget-view+json": {
              "version_major": 2,
              "version_minor": 0,
              "model_id": "9beb20103c3a41ab9b104fb30bdf2be0"
            }
          },
          "metadata": {}
        },
        {
          "output_type": "display_data",
          "data": {
            "text/plain": [
              "  0%|          | 0/3 [00:00<?, ?it/s]"
            ],
            "application/vnd.jupyter.widget-view+json": {
              "version_major": 2,
              "version_minor": 0,
              "model_id": "67a42de2db0a4c1f915901dee5503e23"
            }
          },
          "metadata": {}
        },
        {
          "output_type": "stream",
          "name": "stdout",
          "text": [
            "+--------------+------------------+\n",
            "| inflacion    |   phi(inflacion) |\n",
            "+==============+==================+\n",
            "| inflacion(0) |           0.1501 |\n",
            "+--------------+------------------+\n",
            "| inflacion(1) |           0.8499 |\n",
            "+--------------+------------------+\n"
          ]
        }
      ]
    },
    {
      "cell_type": "markdown",
      "source": [
        "El resultado que retorna la funcion se puede leer como:\n",
        "\n",
        "- \"Dado que hay alcohol y hay carne y no hay confort, la probabilidad de que no haya inflacion es 0.15\"\n",
        "- \"Dado que hay alcohol y hay carne y no hay confort, la probabilidad de que haya inflacion es 0.85\"\n",
        "\n",
        "Por lo que la probabilidad de que haya inflacion dado que no hay confort, pero si hay carne y alcohol es de un 85%\n",
        "\n",
        "En este caso, podriamos asumir que se esta cargando las probabilidades de escasez en los nodos de no_carne, no_cofort y no_alcohol, de esa forma \"eliminia\" la dependecia que tiene incflacion a escasez y logra determinar cual es la probabilidad de la inflacion, de igual forma, podemos observar que sigue la tendencia de las probabiblidades del CDP de escasez que se encuentra más arriba, ya que la probabilidad de que haya inflacion (inflacion = 1) es:\n",
        "(escasez = 0) -> 0.78 y (escasez = 1) -> 0.80\n",
        "\n",
        "---"
      ],
      "metadata": {
        "id": "7aevdics31oO"
      }
    },
    {
      "cell_type": "markdown",
      "source": [
        "Tercera inferencia:\n",
        "\n",
        "\"La Probabilidad de que haya guerra en ucrania y no haya inflacion, dado que no hay alcohol ni confort pero si hay carne\""
      ],
      "metadata": {
        "id": "BUmzbl_CgHHP"
      }
    },
    {
      "cell_type": "code",
      "source": [
        "inference3 = bn.inference.fit(model, variables = ['inflacion','guerra_ucrania'], evidence={'no_alcohol':1,'no_carne':0,'no_confort':1},verbose=1)\n",
        "print(inference3)"
      ],
      "metadata": {
        "colab": {
          "base_uri": "https://localhost:8080/",
          "height": 272,
          "referenced_widgets": [
            "e45c63f0a18f49ad9554117415e9993f",
            "35c639e77b9d42c1b839b60b58bce71c",
            "9516ea3496dd452cbff1a85803167df8",
            "0d939355700a404387dec4ce24845926",
            "1447491038de4f9ea222b0edddd4db0f",
            "63ba9bbaed2d46a29bfa9c616e783e94",
            "63b850a911ca4122b64c1fd7df7a6cc7",
            "b82b78e616e44348a6a6ad528f817d5f",
            "7512f8fda69445f9b9a85b053f4fe8cc",
            "d342b75b830d409f8ee05fcb2199222a",
            "a250c158560c44129462823d167d002d",
            "3efc9deb8a5c44c99924c0d590a884dc",
            "f9c2c713698b4cecb0d835bafe798dcb",
            "da0ac2907907464a8ca5e4bfd507ed37",
            "df3e158b9c1e4e25bdd1593cbccd8b33",
            "4c63ba7e544048409422215660fd5da1",
            "0b771952901e4e6aaa96b3e377ed6f71",
            "e68be5c105e843c1a259880ee32e6066",
            "4503b0ca24c74e0ba0840228bb544f64",
            "46f11ec64ae94a3caf45a720fdb6960c",
            "d12139c5e6104444a49db8ba644c9580",
            "6e73994b6e23405c9378aeb7b22f04f1"
          ]
        },
        "id": "XwkCQKjk8N01",
        "outputId": "8e7a1cb9-bca4-4802-bacc-410f2578c989"
      },
      "execution_count": null,
      "outputs": [
        {
          "output_type": "display_data",
          "data": {
            "text/plain": [
              "  0%|          | 0/2 [00:00<?, ?it/s]"
            ],
            "application/vnd.jupyter.widget-view+json": {
              "version_major": 2,
              "version_minor": 0,
              "model_id": "e45c63f0a18f49ad9554117415e9993f"
            }
          },
          "metadata": {}
        },
        {
          "output_type": "display_data",
          "data": {
            "text/plain": [
              "  0%|          | 0/2 [00:00<?, ?it/s]"
            ],
            "application/vnd.jupyter.widget-view+json": {
              "version_major": 2,
              "version_minor": 0,
              "model_id": "3efc9deb8a5c44c99924c0d590a884dc"
            }
          },
          "metadata": {}
        },
        {
          "output_type": "stream",
          "name": "stdout",
          "text": [
            "+-------------------+--------------+---------------------------------+\n",
            "| guerra_ucrania    | inflacion    |   phi(guerra_ucrania,inflacion) |\n",
            "+===================+==============+=================================+\n",
            "| guerra_ucrania(0) | inflacion(0) |                          0.0040 |\n",
            "+-------------------+--------------+---------------------------------+\n",
            "| guerra_ucrania(0) | inflacion(1) |                          0.0548 |\n",
            "+-------------------+--------------+---------------------------------+\n",
            "| guerra_ucrania(1) | inflacion(0) |                          0.1493 |\n",
            "+-------------------+--------------+---------------------------------+\n",
            "| guerra_ucrania(1) | inflacion(1) |                          0.7918 |\n",
            "+-------------------+--------------+---------------------------------+\n"
          ]
        }
      ]
    },
    {
      "cell_type": "markdown",
      "source": [
        "El resultado que retorna la funcion se puede leer como:\n",
        "\n",
        "- \"Dado que no hay alcohol y hay carne y no hay confort, la probabilidad de que no haya inflacion y no haya guerra en ucrania es de 0.004\"\n",
        "- \"Dado que no hay alcohol y hay carne y no hay confort, la probabilidad de que no haya inflacion y haya guerra en ucrania es de 0.1492\"\n",
        "- \"Dado que no hay alcohol y hay carne y no hay confort, la probabilidad de que haya inflacion y no haya guerra en ucrania es de 0.0546\"\n",
        "- \"Dado que no hay alcohol y hay carne y no hay confort, la probabilidad de que haya inflacion y haya guerra en ucrania es de 0.7921\"\n",
        "\n",
        "Por lo que la probabilidad de que haya guerra en ucrania y no haya inflacion, dado que no hay alcohol ni confort pero si hay carne 14.92%\n",
        "\n",
        "Este es un caso más complejo de analizar, por que se genera unas probabilidades cruzadas entre guerra_ucrania e inflacion, de hecho si observamos el CPD de mas arriba, solo tenemos probabilidades para cuando la inflacion es 1, donde podemos ver que sigue tambien la tendencia de que dado que hay inflacion, es mas probable que haya guerra en ucrania a que no haya.\n",
        "De todas formas la informacion pasa a estar contenida en los nodos de no_carne,no_alcohol y no_confort, para luego ser incluidos y expandidos a los nodos de guerra ucrania e inflacion.\n",
        "\n",
        "\n",
        "---"
      ],
      "metadata": {
        "id": "wB18z37n4PHJ"
      }
    },
    {
      "cell_type": "markdown",
      "source": [
        "#Enunciado 2:\n",
        "\n"
      ],
      "metadata": {
        "id": "nab0ERWFLO6G"
      }
    },
    {
      "cell_type": "code",
      "source": [
        "#Importacion de Librerias\n",
        "import pydtmc as markov\n",
        "import matplotlib as mpl\n",
        "import matplotlib.pyplot as plt\n",
        "import numpy as np\n",
        "\n",
        "\n",
        "#Se define la matriz p por medio de una lista de listas con los valores entregados en el enunciado\n",
        "p = [\n",
        "    [0.25,0.06,0.08,0.15,0.04,0.02,0.15,0.15,0.10],\n",
        "    [0.15,0.15,0.10,0.22,0.01,0.02,0.15,0.10,0.10],\n",
        "    [0.12,0.00,0.05,0.24,0.14,0.04,0.27,0.07,0.07],\n",
        "    [0.05,0.13,0.05,0.30,0.10,0.10,0.22,0.05,0.00],\n",
        "    [0.18,0.20,0.07,0.20,0.15,0.05,0.05,0.05,0.05],\n",
        "    [0.20,0.10,0.20,0.05,0.05,0.10,0.02,0.15,0.13],\n",
        "    [0.01,0.05,0.15,0.14,0.17,0.10,0.12,0.10,0.16],\n",
        "    [0.17,0.15,0.07,0.07,0.15,0.10,0.12,0.09,0.08],\n",
        "    [0.13,0.11,0.13,0.03,0.20,0.20,0.04,0.15,0.01]\n",
        "]\n",
        "\n",
        "#Se crea la cadena de markov con ayuda de la libreria pydtmc\n",
        "mc = markov.MarkovChain(p, ['G1', 'G2', 'G3', 'G4', 'G5', 'G6', 'G7', 'G8', 'G9'])\n",
        "\n",
        "#data Almacenara las distintas probabilidades calculadas en cada iteracion de la forma: {10:{G1:.,G2:...},100:{G1:.,G2:...},...}\n",
        "data = {}\n",
        "\n",
        "#random_walks_step funciona como una lista para definir las distintas cantidades de iteraciones de random walks que se haran,\n",
        "# siempre hace n+1 (en vez de 10, 11)\n",
        "random_walks_steps =[10,100,1000,5000,10000,20000,50000,80000,100000]\n",
        "\n",
        "#La funcion walk recibe la cantidad de pasos y una seed para poder reproducir los casos, en caso de querer probar casos distintos, cambiar el 32 por otro numero.\n",
        "#El siguiente fragmento de codigo lo que hace es recorrer la lista de pasos para realizar cada una de las distintas iteracioes, y luego\n",
        "# cuenta la cantidad de veces que una banda aparece y lo almacena en el diccionario de ocurrences, luego calcula cada una de las probabilidades\n",
        "# dividiendo el valor en el total+1, posteriormente almacena esta informacion en la variable data para su posterior uso en el grafico.\n",
        "for i in random_walks_steps:\n",
        "  ocurrences = {'G1': 0, 'G2': 0, 'G3': 0, 'G4': 0, 'G5': 0, 'G6': 0, 'G7': 0, 'G8': 0, 'G9': 0}\n",
        "  random_walk = mc.walk(i, seed=32+i)\n",
        "  for j in random_walk:\n",
        "    ocurrences[j]+=1\n",
        "  probability = {k: v/(i+1) for k, v in ocurrences.items()}\n",
        "  data[i] = probability\n",
        "print(f'Ultimo calculo de probabilidad, correspondiente a {i} iteraciones: {probability}')\n"
      ],
      "metadata": {
        "colab": {
          "base_uri": "https://localhost:8080/"
        },
        "id": "jwfJNoWqr8sh",
        "outputId": "c6ff92a6-2c00-4aa3-963a-9e2e132416e3"
      },
      "execution_count": null,
      "outputs": [
        {
          "output_type": "stream",
          "name": "stdout",
          "text": [
            "Ultimo calculo de probabilidad, correspondiente a 100000 iteraciones: {'G1': 0.13019869801301986, 'G2': 0.1045089549104509, 'G3': 0.0945090549094509, 'G4': 0.17225827741722582, 'G5': 0.1103088969110309, 'G6': 0.07831921680783192, 'G7': 0.13725862741372585, 'G8': 0.0970890291097089, 'G9': 0.07554924450755493}\n"
          ]
        }
      ]
    },
    {
      "cell_type": "markdown",
      "source": [
        "Una vez obtenidos los valores de las probabilidades para las distintas cantidades de iteraciones, se procede a graficar los valores para poder analizar de forma mas visual que pasa con las probabilidades de las bandas:"
      ],
      "metadata": {
        "id": "mgvdnVUz8mbJ"
      }
    },
    {
      "cell_type": "code",
      "source": [
        "#Se define la lista de bandas para poder realizar la agrupacion segun el grupo musical en el for que viene luego,\n",
        "# ademas se genera la figura y los 2 subplots para su posterior graficacion\n",
        "bands = ['G1', 'G2', 'G3', 'G4', 'G5', 'G6', 'G7', 'G8', 'G9']\n",
        "graph = plt.figure(figsize=(20, 10), layout='constrained')\n",
        "plot1 = graph.add_subplot(121)\n",
        "plot2 = graph.add_subplot(122)\n",
        "\n",
        "#En el siguiente for, se itera sobre la variable bands para obtener una banda en particular, para la cual luego\n",
        "# se obtienen todos sus valores de probabilidades en orden y se plotean en los graficos 1 y 2\n",
        "for band in bands:\n",
        "  probabilities = [x[band] for _,x in data.items()]\n",
        "  plot1.plot(data.keys(), probabilities, label=band)\n",
        "  plot2.plot(data.keys(), probabilities, label=band)\n",
        "\n",
        "#Configuracion Graficos, se aplican limites, nombres y se crea la leyenda para cada uno\n",
        "#plot1\n",
        "plot1.set_xlim([0,1000])\n",
        "plot1.set_xlabel('Iteraciones')\n",
        "plot1.set_ylabel('Probabilidades')\n",
        "plot1.set_title(\"Enfoque en valores pequeños\")\n",
        "legend1 = plot1.legend(loc='upper right', shadow=True, fontsize='x-large')\n",
        "#plot2\n",
        "plot2.set_xlabel('Iteraciones')\n",
        "plot2.set_ylabel('Probabilidades')\n",
        "plot2.set_title(\"Grafico Distribucion Estacionaria\")\n",
        "legend2 = plot2.legend(loc='upper right', shadow=True, fontsize='x-large')"
      ],
      "metadata": {
        "colab": {
          "base_uri": "https://localhost:8080/",
          "height": 745
        },
        "id": "tLfcmIQ_lX1s",
        "outputId": "5ad43441-5935-4f99-b568-a51a7327d302"
      },
      "execution_count": null,
      "outputs": [
        {
          "output_type": "display_data",
          "data": {
            "text/plain": [
              "<Figure size 1440x720 with 2 Axes>"
            ],
            "image/png": "[encoded data removed]"
          },
          "metadata": {
            "needs_background": "light"
          }
        }
      ]
    },
    {
      "cell_type": "markdown",
      "source": [
        "En el grafico anterior podemos notar:\n",
        "\n",
        "- A medida que la cantidad de random walks va aumentando, el valor de la probabilidad de que cada banda sea escuchada tiende a acercarse a un numero especifico, de hecho podemos ver que pasado los 20000 random walks, las variaciones en los valores de cada P es muy pequeño.\n",
        "- La banda con mayor probabilidad de ser escuchada es G4 (*Rhapsody of fire*) y la banda con menos probabilidad de ser escuchada puede ser G6 o G9 (*Liquid Tension Experiment* o *Symphony X*)(viendo el ultimo valor graficado, seria G9).\n",
        "- La mayoria de las probabilidades esta en un rango cercano a los 0.10, de hecho podria decirse que es entre 0.10 y menos de 0.15.\n",
        "- El usar menos de 1000 random walks no permite ver bien las tendencias de las probabilidades.\n"
      ],
      "metadata": {
        "id": "Esb2zCIJiXES"
      }
    },
    {
      "cell_type": "markdown",
      "source": [
        "Se procede entonces a determinar la matriz de distribucion estacionaria para la cadena de Markov entregada, esto se hara realizando las iteraciones sobre la matriz $T$, partiendo con una matriz de estados $\\pi^0$, la cual se multiplicara con $T$ para obtener un estado $\\pi^1$  , de esta forma se seguira iterando sobre las mismas hasta que se cumpla que $ \\pi ⋅ T =\\pi $"
      ],
      "metadata": {
        "id": "XQh6rcV860NO"
      }
    },
    {
      "cell_type": "code",
      "source": [
        "#Se define pi0_matrix, la cual se usa como matriz de estado inicial para el calculo\n",
        "pi0_matrix = ([1,0,0,0,0,0,0,0,0])\n",
        "\n",
        "#Se transforma la lista que se definio anteriormente en un arreglo numpy para poder usarlo como matriz\n",
        "#previos_result se usa para definir el estado anterior de la iteracion\n",
        "transition_matrix = np.array(p)\n",
        "previous_result = pi0_matrix\n",
        "\n",
        "#En un while true, se multiplica la matriz de transicion por el estado actual, para poder obtener el estado siguiente\n",
        "# se verifica entonces si \"estado anterior == estado actual\", si se cumple se termina la iteracion, en caso contrario\n",
        "# previous_result ahora es el estado actual y se vuelve a iterar.\n",
        "while(True):\n",
        "  new_result = np.dot(previous_result,transition_matrix)\n",
        "  if (new_result == previous_result).all(): break\n",
        "  previous_result = new_result\n",
        "print(f'Distribucion Estacionaria: {new_result}')"
      ],
      "metadata": {
        "id": "RfwC70wM6lYk",
        "colab": {
          "base_uri": "https://localhost:8080/"
        },
        "outputId": "3326e506-9716-4773-d202-bcd90813059e"
      },
      "execution_count": null,
      "outputs": [
        {
          "output_type": "stream",
          "name": "stdout",
          "text": [
            "Distribucion Estacionaria: [0.13162585 0.10540776 0.09476106 0.17109049 0.11006619 0.07747712\n",
            " 0.13687884 0.09640483 0.07628785]\n"
          ]
        }
      ]
    },
    {
      "cell_type": "markdown",
      "source": [
        "Ademas se utilizara el metodo que proporciona internamente la libreria para calcular la Distribucion estacionaria a modo de verificar que lo que se obtuvo anteriormente esta correcto."
      ],
      "metadata": {
        "id": "XaEVhk7PYzQd"
      }
    },
    {
      "cell_type": "code",
      "source": [
        "#Se imprime el valor [0], dado que la funcion retorna un array([...])\n",
        "print(mc.steady_states[0])"
      ],
      "metadata": {
        "colab": {
          "base_uri": "https://localhost:8080/"
        },
        "id": "e7v3d3koY5Fo",
        "outputId": "ef06ea70-38f8-4a0d-d2bb-6957b76e581e"
      },
      "execution_count": null,
      "outputs": [
        {
          "output_type": "stream",
          "name": "stdout",
          "text": [
            "[0.13162585 0.10540776 0.09476106 0.17109049 0.11006619 0.07747712\n",
            " 0.13687884 0.09640483 0.07628785]\n"
          ]
        }
      ]
    },
    {
      "cell_type": "markdown",
      "source": [
        "Podemos notar que la distribucion estacionaria fue calculada correctamente, ahora para facilitar la comparacion con los valores que se obtuvieron en la parte anterior de la tarea, se imprimen los valores obtenidos en esa seccion y la matriz calculada anteriormente:"
      ],
      "metadata": {
        "id": "phm_hpbkvBjW"
      }
    },
    {
      "cell_type": "code",
      "source": [
        "print(f'Bandas: Grafico | Distribucion')\n",
        "for i in range(len(bands)):\n",
        "  print(f'    {bands[i]}: {\"{:.5f}\".format( probability[bands[i]])} | {\"{:.5f}\".format( new_result[i])}')"
      ],
      "metadata": {
        "colab": {
          "base_uri": "https://localhost:8080/"
        },
        "id": "-ks5NlP-vewo",
        "outputId": "f73be087-811e-4445-e0ab-99511c440275"
      },
      "execution_count": null,
      "outputs": [
        {
          "output_type": "stream",
          "name": "stdout",
          "text": [
            "Bandas: Grafico | Distribucion\n",
            "    G1: 0.13020 | 0.13163\n",
            "    G2: 0.10451 | 0.10541\n",
            "    G3: 0.09451 | 0.09476\n",
            "    G4: 0.17226 | 0.17109\n",
            "    G5: 0.11031 | 0.11007\n",
            "    G6: 0.07832 | 0.07748\n",
            "    G7: 0.13726 | 0.13688\n",
            "    G8: 0.09709 | 0.09640\n",
            "    G9: 0.07555 | 0.07629\n"
          ]
        }
      ]
    },
    {
      "cell_type": "markdown",
      "source": [
        "Realizando una comparacion de los valores obtenidos en ambos casos, podemos observar que el valor al cual tendian las probabilidades del grafico, como se habia mencionado previamente, era realmente la distribucion estacionaria.\n",
        "\n",
        "Ademas dada la cercania que se observa entre sus valores, donde la diferencia ocurre recien en el orden de $10^{-2}$ para el caso $10^5$ iteraciones de random walks, podriamos asumir que esta diferencia se veria aun más reducida al aumentar la cantidad de iteraciones de random walks en una cantidad considerable, por ejemplo $10^6$ o más, pero esto implicaria un costo de computo mucho mayor, por lo que el metodo generado multiplicando la matriz seria más optimo."
      ],
      "metadata": {
        "id": "iGzcbcAWyY-a"
      }
    }
  ]
}